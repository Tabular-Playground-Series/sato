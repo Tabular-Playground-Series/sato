{
 "cells": [
  {
   "cell_type": "code",
   "execution_count": 1,
   "metadata": {
    "id": "aXireocsC4te"
   },
   "outputs": [],
   "source": [
    "# 基本ツール\n",
    "import numpy as np\n",
    "import matplotlib.pyplot as plt\n",
    "import pandas as pd\n",
    "from IPython.display import display\n",
    "import matplotlib.ticker as ticker\n",
    "import seaborn as sns\n",
    "\n",
    "from sklearn.ensemble import RandomForestRegressor\n",
    "from sklearn.datasets import make_classification\n",
    "from sklearn import linear_model\n",
    "\n",
    "from sklearn.metrics import mean_squared_error\n",
    "# grid serch\n",
    "\n",
    "from sklearn.model_selection import GridSearchCV"
   ]
  },
  {
   "cell_type": "code",
   "execution_count": 59,
   "metadata": {
    "id": "Zb9TPzLYC4tn"
   },
   "outputs": [],
   "source": [
    "raw_data   = pd.read_csv('./train.csv')\n",
    "raw_data_  = pd.read_csv('./test.csv')\n",
    "sample_submission  = pd.read_csv('./sample_submission.csv')\n",
    "train_data = raw_data.copy()\n",
    "test_data  = raw_data_.copy()"
   ]
  },
  {
   "cell_type": "code",
   "execution_count": 60,
   "metadata": {
    "id": "DfiQdepGC4to"
   },
   "outputs": [],
   "source": [
    "#my_report = sweetviz.compare([train_data, 'Train'], [test_data, 'Test'], 'target')\n",
    "#my_report.show_html('Report.html')"
   ]
  },
  {
   "cell_type": "code",
   "execution_count": 61,
   "metadata": {
    "colab": {
     "base_uri": "https://localhost:8080/",
     "height": 439
    },
    "id": "gmFMAWn3C4to",
    "outputId": "53f11a57-3a02-43a2-92d3-f5130b577da8"
   },
   "outputs": [
    {
     "data": {
      "text/html": [
       "<div>\n",
       "<style scoped>\n",
       "    .dataframe tbody tr th:only-of-type {\n",
       "        vertical-align: middle;\n",
       "    }\n",
       "\n",
       "    .dataframe tbody tr th {\n",
       "        vertical-align: top;\n",
       "    }\n",
       "\n",
       "    .dataframe thead th {\n",
       "        text-align: right;\n",
       "    }\n",
       "</style>\n",
       "<table border=\"1\" class=\"dataframe\">\n",
       "  <thead>\n",
       "    <tr style=\"text-align: right;\">\n",
       "      <th></th>\n",
       "      <th>id</th>\n",
       "      <th>cat0</th>\n",
       "      <th>cat1</th>\n",
       "      <th>cat2</th>\n",
       "      <th>cat3</th>\n",
       "      <th>cat4</th>\n",
       "      <th>cat5</th>\n",
       "      <th>cat6</th>\n",
       "      <th>cat7</th>\n",
       "      <th>cat8</th>\n",
       "      <th>...</th>\n",
       "      <th>cont5</th>\n",
       "      <th>cont6</th>\n",
       "      <th>cont7</th>\n",
       "      <th>cont8</th>\n",
       "      <th>cont9</th>\n",
       "      <th>cont10</th>\n",
       "      <th>cont11</th>\n",
       "      <th>cont12</th>\n",
       "      <th>cont13</th>\n",
       "      <th>target</th>\n",
       "    </tr>\n",
       "  </thead>\n",
       "  <tbody>\n",
       "    <tr>\n",
       "      <th>0</th>\n",
       "      <td>1</td>\n",
       "      <td>A</td>\n",
       "      <td>B</td>\n",
       "      <td>A</td>\n",
       "      <td>A</td>\n",
       "      <td>B</td>\n",
       "      <td>D</td>\n",
       "      <td>A</td>\n",
       "      <td>E</td>\n",
       "      <td>C</td>\n",
       "      <td>...</td>\n",
       "      <td>0.881122</td>\n",
       "      <td>0.421650</td>\n",
       "      <td>0.741413</td>\n",
       "      <td>0.895799</td>\n",
       "      <td>0.802461</td>\n",
       "      <td>0.724417</td>\n",
       "      <td>0.701915</td>\n",
       "      <td>0.877618</td>\n",
       "      <td>0.719903</td>\n",
       "      <td>6.994023</td>\n",
       "    </tr>\n",
       "    <tr>\n",
       "      <th>1</th>\n",
       "      <td>2</td>\n",
       "      <td>B</td>\n",
       "      <td>A</td>\n",
       "      <td>A</td>\n",
       "      <td>A</td>\n",
       "      <td>B</td>\n",
       "      <td>B</td>\n",
       "      <td>A</td>\n",
       "      <td>E</td>\n",
       "      <td>A</td>\n",
       "      <td>...</td>\n",
       "      <td>0.440011</td>\n",
       "      <td>0.346230</td>\n",
       "      <td>0.278495</td>\n",
       "      <td>0.593413</td>\n",
       "      <td>0.546056</td>\n",
       "      <td>0.613252</td>\n",
       "      <td>0.741289</td>\n",
       "      <td>0.326679</td>\n",
       "      <td>0.808464</td>\n",
       "      <td>8.071256</td>\n",
       "    </tr>\n",
       "    <tr>\n",
       "      <th>2</th>\n",
       "      <td>3</td>\n",
       "      <td>A</td>\n",
       "      <td>A</td>\n",
       "      <td>A</td>\n",
       "      <td>C</td>\n",
       "      <td>B</td>\n",
       "      <td>D</td>\n",
       "      <td>A</td>\n",
       "      <td>B</td>\n",
       "      <td>C</td>\n",
       "      <td>...</td>\n",
       "      <td>0.914155</td>\n",
       "      <td>0.369602</td>\n",
       "      <td>0.832564</td>\n",
       "      <td>0.865620</td>\n",
       "      <td>0.825251</td>\n",
       "      <td>0.264104</td>\n",
       "      <td>0.695561</td>\n",
       "      <td>0.869133</td>\n",
       "      <td>0.828352</td>\n",
       "      <td>5.760456</td>\n",
       "    </tr>\n",
       "    <tr>\n",
       "      <th>3</th>\n",
       "      <td>4</td>\n",
       "      <td>A</td>\n",
       "      <td>A</td>\n",
       "      <td>A</td>\n",
       "      <td>C</td>\n",
       "      <td>B</td>\n",
       "      <td>D</td>\n",
       "      <td>A</td>\n",
       "      <td>E</td>\n",
       "      <td>G</td>\n",
       "      <td>...</td>\n",
       "      <td>0.934138</td>\n",
       "      <td>0.578930</td>\n",
       "      <td>0.407313</td>\n",
       "      <td>0.868099</td>\n",
       "      <td>0.794402</td>\n",
       "      <td>0.494269</td>\n",
       "      <td>0.698125</td>\n",
       "      <td>0.809799</td>\n",
       "      <td>0.614766</td>\n",
       "      <td>7.806457</td>\n",
       "    </tr>\n",
       "    <tr>\n",
       "      <th>4</th>\n",
       "      <td>6</td>\n",
       "      <td>A</td>\n",
       "      <td>B</td>\n",
       "      <td>A</td>\n",
       "      <td>A</td>\n",
       "      <td>B</td>\n",
       "      <td>B</td>\n",
       "      <td>A</td>\n",
       "      <td>E</td>\n",
       "      <td>C</td>\n",
       "      <td>...</td>\n",
       "      <td>0.382600</td>\n",
       "      <td>0.705940</td>\n",
       "      <td>0.325193</td>\n",
       "      <td>0.440967</td>\n",
       "      <td>0.462146</td>\n",
       "      <td>0.724447</td>\n",
       "      <td>0.683073</td>\n",
       "      <td>0.343457</td>\n",
       "      <td>0.297743</td>\n",
       "      <td>6.868974</td>\n",
       "    </tr>\n",
       "    <tr>\n",
       "      <th>...</th>\n",
       "      <td>...</td>\n",
       "      <td>...</td>\n",
       "      <td>...</td>\n",
       "      <td>...</td>\n",
       "      <td>...</td>\n",
       "      <td>...</td>\n",
       "      <td>...</td>\n",
       "      <td>...</td>\n",
       "      <td>...</td>\n",
       "      <td>...</td>\n",
       "      <td>...</td>\n",
       "      <td>...</td>\n",
       "      <td>...</td>\n",
       "      <td>...</td>\n",
       "      <td>...</td>\n",
       "      <td>...</td>\n",
       "      <td>...</td>\n",
       "      <td>...</td>\n",
       "      <td>...</td>\n",
       "      <td>...</td>\n",
       "      <td>...</td>\n",
       "    </tr>\n",
       "    <tr>\n",
       "      <th>95</th>\n",
       "      <td>164</td>\n",
       "      <td>A</td>\n",
       "      <td>B</td>\n",
       "      <td>A</td>\n",
       "      <td>C</td>\n",
       "      <td>B</td>\n",
       "      <td>B</td>\n",
       "      <td>A</td>\n",
       "      <td>E</td>\n",
       "      <td>E</td>\n",
       "      <td>...</td>\n",
       "      <td>0.198953</td>\n",
       "      <td>0.304955</td>\n",
       "      <td>0.228038</td>\n",
       "      <td>0.165184</td>\n",
       "      <td>0.350502</td>\n",
       "      <td>0.231549</td>\n",
       "      <td>0.265881</td>\n",
       "      <td>0.351718</td>\n",
       "      <td>0.251234</td>\n",
       "      <td>8.574307</td>\n",
       "    </tr>\n",
       "    <tr>\n",
       "      <th>96</th>\n",
       "      <td>165</td>\n",
       "      <td>A</td>\n",
       "      <td>B</td>\n",
       "      <td>A</td>\n",
       "      <td>D</td>\n",
       "      <td>B</td>\n",
       "      <td>B</td>\n",
       "      <td>A</td>\n",
       "      <td>E</td>\n",
       "      <td>C</td>\n",
       "      <td>...</td>\n",
       "      <td>0.390233</td>\n",
       "      <td>0.406308</td>\n",
       "      <td>0.254529</td>\n",
       "      <td>0.401283</td>\n",
       "      <td>0.443222</td>\n",
       "      <td>0.611084</td>\n",
       "      <td>0.373161</td>\n",
       "      <td>0.329228</td>\n",
       "      <td>0.289662</td>\n",
       "      <td>7.613036</td>\n",
       "    </tr>\n",
       "    <tr>\n",
       "      <th>97</th>\n",
       "      <td>167</td>\n",
       "      <td>A</td>\n",
       "      <td>B</td>\n",
       "      <td>A</td>\n",
       "      <td>C</td>\n",
       "      <td>B</td>\n",
       "      <td>D</td>\n",
       "      <td>A</td>\n",
       "      <td>E</td>\n",
       "      <td>E</td>\n",
       "      <td>...</td>\n",
       "      <td>0.435150</td>\n",
       "      <td>0.340275</td>\n",
       "      <td>0.260918</td>\n",
       "      <td>0.311286</td>\n",
       "      <td>0.611101</td>\n",
       "      <td>0.568261</td>\n",
       "      <td>0.397329</td>\n",
       "      <td>0.650514</td>\n",
       "      <td>0.805869</td>\n",
       "      <td>7.691082</td>\n",
       "    </tr>\n",
       "    <tr>\n",
       "      <th>98</th>\n",
       "      <td>168</td>\n",
       "      <td>A</td>\n",
       "      <td>B</td>\n",
       "      <td>A</td>\n",
       "      <td>C</td>\n",
       "      <td>C</td>\n",
       "      <td>D</td>\n",
       "      <td>A</td>\n",
       "      <td>E</td>\n",
       "      <td>G</td>\n",
       "      <td>...</td>\n",
       "      <td>0.679719</td>\n",
       "      <td>0.480595</td>\n",
       "      <td>0.484355</td>\n",
       "      <td>0.913394</td>\n",
       "      <td>0.840664</td>\n",
       "      <td>0.577120</td>\n",
       "      <td>0.346455</td>\n",
       "      <td>0.893273</td>\n",
       "      <td>0.671947</td>\n",
       "      <td>8.441794</td>\n",
       "    </tr>\n",
       "    <tr>\n",
       "      <th>99</th>\n",
       "      <td>169</td>\n",
       "      <td>A</td>\n",
       "      <td>B</td>\n",
       "      <td>A</td>\n",
       "      <td>A</td>\n",
       "      <td>B</td>\n",
       "      <td>B</td>\n",
       "      <td>A</td>\n",
       "      <td>E</td>\n",
       "      <td>C</td>\n",
       "      <td>...</td>\n",
       "      <td>0.385156</td>\n",
       "      <td>0.406584</td>\n",
       "      <td>0.330620</td>\n",
       "      <td>0.472851</td>\n",
       "      <td>0.566788</td>\n",
       "      <td>0.418908</td>\n",
       "      <td>0.414795</td>\n",
       "      <td>0.345924</td>\n",
       "      <td>0.274370</td>\n",
       "      <td>7.038923</td>\n",
       "    </tr>\n",
       "  </tbody>\n",
       "</table>\n",
       "<p>100 rows × 26 columns</p>\n",
       "</div>"
      ],
      "text/plain": [
       "     id cat0 cat1 cat2 cat3 cat4 cat5 cat6 cat7 cat8  ...     cont5     cont6  \\\n",
       "0     1    A    B    A    A    B    D    A    E    C  ...  0.881122  0.421650   \n",
       "1     2    B    A    A    A    B    B    A    E    A  ...  0.440011  0.346230   \n",
       "2     3    A    A    A    C    B    D    A    B    C  ...  0.914155  0.369602   \n",
       "3     4    A    A    A    C    B    D    A    E    G  ...  0.934138  0.578930   \n",
       "4     6    A    B    A    A    B    B    A    E    C  ...  0.382600  0.705940   \n",
       "..  ...  ...  ...  ...  ...  ...  ...  ...  ...  ...  ...       ...       ...   \n",
       "95  164    A    B    A    C    B    B    A    E    E  ...  0.198953  0.304955   \n",
       "96  165    A    B    A    D    B    B    A    E    C  ...  0.390233  0.406308   \n",
       "97  167    A    B    A    C    B    D    A    E    E  ...  0.435150  0.340275   \n",
       "98  168    A    B    A    C    C    D    A    E    G  ...  0.679719  0.480595   \n",
       "99  169    A    B    A    A    B    B    A    E    C  ...  0.385156  0.406584   \n",
       "\n",
       "       cont7     cont8     cont9    cont10    cont11    cont12    cont13  \\\n",
       "0   0.741413  0.895799  0.802461  0.724417  0.701915  0.877618  0.719903   \n",
       "1   0.278495  0.593413  0.546056  0.613252  0.741289  0.326679  0.808464   \n",
       "2   0.832564  0.865620  0.825251  0.264104  0.695561  0.869133  0.828352   \n",
       "3   0.407313  0.868099  0.794402  0.494269  0.698125  0.809799  0.614766   \n",
       "4   0.325193  0.440967  0.462146  0.724447  0.683073  0.343457  0.297743   \n",
       "..       ...       ...       ...       ...       ...       ...       ...   \n",
       "95  0.228038  0.165184  0.350502  0.231549  0.265881  0.351718  0.251234   \n",
       "96  0.254529  0.401283  0.443222  0.611084  0.373161  0.329228  0.289662   \n",
       "97  0.260918  0.311286  0.611101  0.568261  0.397329  0.650514  0.805869   \n",
       "98  0.484355  0.913394  0.840664  0.577120  0.346455  0.893273  0.671947   \n",
       "99  0.330620  0.472851  0.566788  0.418908  0.414795  0.345924  0.274370   \n",
       "\n",
       "      target  \n",
       "0   6.994023  \n",
       "1   8.071256  \n",
       "2   5.760456  \n",
       "3   7.806457  \n",
       "4   6.868974  \n",
       "..       ...  \n",
       "95  8.574307  \n",
       "96  7.613036  \n",
       "97  7.691082  \n",
       "98  8.441794  \n",
       "99  7.038923  \n",
       "\n",
       "[100 rows x 26 columns]"
      ]
     },
     "execution_count": 61,
     "metadata": {},
     "output_type": "execute_result"
    }
   ],
   "source": [
    "train_data.head(100)"
   ]
  },
  {
   "cell_type": "code",
   "execution_count": 63,
   "metadata": {
    "id": "dEIe3kbYC4tr"
   },
   "outputs": [],
   "source": [
    "X = train_data.iloc[:, 1:25]\n",
    "y = train_data.iloc[:,25:]\n",
    "\n",
    "X_test = test_data.iloc[:,1:25]"
   ]
  },
  {
   "cell_type": "code",
   "execution_count": 67,
   "metadata": {
    "id": "gTttJxVNC4ts"
   },
   "outputs": [],
   "source": [
    "#　ダミー化\n",
    "X = pd.get_dummies(X, columns=['cat0','cat1','cat2','cat3','cat4','cat5','cat6','cat7','cat8','cat9'])\n",
    "X_test = pd.get_dummies(X_test, columns=['cat0','cat1','cat2','cat3','cat4','cat5','cat6','cat7','cat8','cat9'])\n"
   ]
  },
  {
   "cell_type": "code",
   "execution_count": 68,
   "metadata": {
    "id": "HYuwC7mWC4tt"
   },
   "outputs": [],
   "source": [
    "# 正規化\n",
    "X = (X - np.min(X)) / (np.max(X) - np.min(X))\n",
    "y = (y - np.min(y)) / (np.max(y) - np.min(y))"
   ]
  },
  {
   "cell_type": "code",
   "execution_count": 70,
   "metadata": {
    "colab": {
     "base_uri": "https://localhost:8080/"
    },
    "id": "tRE6h5WgC4tu",
    "outputId": "45c09258-7633-4925-a1a2-e34350eec97e"
   },
   "outputs": [
    {
     "name": "stdout",
     "output_type": "stream",
     "text": [
      "           cont0     cont1     cont2     cont3     cont4     cont5     cont6  \\\n",
      "0       0.887037  0.816091  0.171367  0.095360  0.114564  0.855691  0.359931   \n",
      "1       0.463397  0.076438  0.387501  0.816060  0.115723  0.465907  0.288058   \n",
      "2       0.720411  0.898964  0.477677  0.778047  0.129890  0.884880  0.310331   \n",
      "3       0.696796  0.911708  0.198531  0.686162  0.721352  0.902538  0.509813   \n",
      "4       0.505656  0.765785  0.516239  0.251719  0.111686  0.415176  0.630849   \n",
      "...          ...       ...       ...       ...       ...       ...       ...   \n",
      "299995  0.309047  0.846382  0.205883  0.353368  0.719690  0.315305  0.204602   \n",
      "299996  0.232781  0.194846  0.605575  0.067627  0.729014  0.251359  0.203048   \n",
      "299997  0.380712  0.742099  0.485420  0.325038  0.134425  0.474276  0.326122   \n",
      "299998  0.604542  0.817289  0.668978  0.060156  0.707507  0.397972  0.267000   \n",
      "299999  0.496397  0.102293  0.755170  0.302129  0.629733  0.726317  0.343249   \n",
      "\n",
      "           cont7     cont8     cont9  ...  cat9_E  cat9_F  cat9_G  cat9_H  \\\n",
      "0       0.643496  0.882829  0.811322  ...     0.0     0.0     0.0     0.0   \n",
      "1       0.084307  0.583471  0.526128  ...     0.0     1.0     0.0     0.0   \n",
      "2       0.753604  0.852951  0.836672  ...     0.0     0.0     0.0     0.0   \n",
      "3       0.239914  0.855406  0.802359  ...     0.0     0.0     0.0     0.0   \n",
      "4       0.140716  0.432551  0.432796  ...     0.0     1.0     0.0     0.0   \n",
      "...          ...       ...       ...  ...     ...     ...     ...     ...   \n",
      "299995  0.187108  0.293608  0.297509  ...     0.0     0.0     0.0     0.0   \n",
      "299996  0.441633  0.220760  0.277562  ...     0.0     0.0     0.0     0.0   \n",
      "299997  0.323148  0.130585  0.477937  ...     0.0     0.0     0.0     0.0   \n",
      "299998  0.024539  0.214676  0.491923  ...     0.0     1.0     0.0     0.0   \n",
      "299999  0.349122  0.488986  0.789216  ...     0.0     0.0     0.0     0.0   \n",
      "\n",
      "        cat9_I  cat9_J  cat9_K  cat9_L  cat9_M  cat9_N  \n",
      "0          1.0     0.0     0.0     0.0     0.0     0.0  \n",
      "1          0.0     0.0     0.0     0.0     0.0     0.0  \n",
      "2          0.0     0.0     0.0     0.0     0.0     1.0  \n",
      "3          0.0     0.0     1.0     0.0     0.0     0.0  \n",
      "4          0.0     0.0     0.0     0.0     0.0     0.0  \n",
      "...        ...     ...     ...     ...     ...     ...  \n",
      "299995     0.0     0.0     0.0     1.0     0.0     0.0  \n",
      "299996     0.0     0.0     0.0     1.0     0.0     0.0  \n",
      "299997     0.0     0.0     0.0     0.0     1.0     0.0  \n",
      "299998     0.0     0.0     0.0     0.0     0.0     0.0  \n",
      "299999     0.0     0.0     1.0     0.0     0.0     0.0  \n",
      "\n",
      "[300000 rows x 69 columns]\n"
     ]
    }
   ],
   "source": [
    "X = X.iloc[:, :69]"
   ]
  },
  {
   "cell_type": "code",
   "execution_count": 30,
   "metadata": {
    "id": "Lv20ROcaC4tv"
   },
   "outputs": [],
   "source": [
    "# random forest\n",
    "\n",
    "rf_model = RandomForestRegressor(random_state=1)\n",
    "\n",
    "# max_fature　決定木作成に用いる変数の数\n",
    "\n",
    "features = [30]\n",
    "\n",
    "# n_estimators 決定木の数\n",
    "\n",
    "estimates = [50]\n",
    "\n",
    "# min_sample_split　分岐を続行するためのサンプルサイズ\n",
    "\n",
    "min_sample = [300]\n",
    "\n",
    "# max_depth \n",
    "\n",
    "depthes = [50]\n",
    "\n",
    "\n",
    "# 合計パラメータ\n",
    "\n",
    "params = {'n_estimators':estimates, 'max_features':features, 'min_samples_split':min_sample, 'max_depth':depthes}"
   ]
  },
  {
   "cell_type": "code",
   "execution_count": 33,
   "metadata": {
    "id": "d9WDOARbC4tx"
   },
   "outputs": [],
   "source": [
    "# 交差検証\n",
    "\n",
    "grid_cv = GridSearchCV(estimator=rf_model, param_grid=params, cv=5)\n"
   ]
  },
  {
   "cell_type": "code",
   "execution_count": 35,
   "metadata": {
    "colab": {
     "base_uri": "https://localhost:8080/"
    },
    "id": "J8Sri3DpC4tz",
    "outputId": "ca142f4a-a2aa-4ec5-b3ba-dce2a8429c33"
   },
   "outputs": [
    {
     "data": {
      "text/plain": [
       "GridSearchCV(cv=5, error_score=nan,\n",
       "             estimator=RandomForestRegressor(bootstrap=True, ccp_alpha=0.0,\n",
       "                                             criterion='mse', max_depth=None,\n",
       "                                             max_features='auto',\n",
       "                                             max_leaf_nodes=None,\n",
       "                                             max_samples=None,\n",
       "                                             min_impurity_decrease=0.0,\n",
       "                                             min_impurity_split=None,\n",
       "                                             min_samples_leaf=1,\n",
       "                                             min_samples_split=2,\n",
       "                                             min_weight_fraction_leaf=0.0,\n",
       "                                             n_estimators=100, n_jobs=None,\n",
       "                                             oob_score=False, random_state=1,\n",
       "                                             verbose=0, warm_start=False),\n",
       "             iid='deprecated', n_jobs=None,\n",
       "             param_grid={'max_depth': [50], 'max_features': [30],\n",
       "                         'min_samples_split': [300], 'n_estimators': [50]},\n",
       "             pre_dispatch='2*n_jobs', refit=True, return_train_score=False,\n",
       "             scoring=None, verbose=0)"
      ]
     },
     "execution_count": 35,
     "metadata": {},
     "output_type": "execute_result"
    }
   ],
   "source": [
    "# X トレーニングデータ　y　はターゲット\n",
    "\n",
    "grid_cv.fit(X,y.values.ravel())"
   ]
  },
  {
   "cell_type": "code",
   "execution_count": 36,
   "metadata": {
    "colab": {
     "base_uri": "https://localhost:8080/",
     "height": 102
    },
    "id": "vsA7lz0vC4tz",
    "outputId": "096a4db6-2f8a-4a20-eb9b-a2ea1998bfe0"
   },
   "outputs": [
    {
     "data": {
      "text/plain": [
       "{'max_depth': 50,\n",
       " 'max_features': 30,\n",
       " 'min_samples_split': 300,\n",
       " 'n_estimators': 50}"
      ]
     },
     "metadata": {},
     "output_type": "display_data"
    },
    {
     "data": {
      "text/plain": [
       "0.07436097415523628"
      ]
     },
     "metadata": {},
     "output_type": "display_data"
    }
   ],
   "source": [
    "display(grid_cv.best_params_,grid_cv.best_score_)"
   ]
  },
  {
   "cell_type": "code",
   "execution_count": 37,
   "metadata": {
    "colab": {
     "base_uri": "https://localhost:8080/"
    },
    "id": "gY_AX2f5OYI0",
    "outputId": "117271da-a19a-4d5b-dda7-c9ba8053456d"
   },
   "outputs": [
    {
     "data": {
      "text/plain": [
       "0.0790876276936703"
      ]
     },
     "execution_count": 37,
     "metadata": {},
     "output_type": "execute_result"
    }
   ],
   "source": [
    "forest_grid_pred = grid_cv.best_estimator_.predict(X)\n",
    "forest_grid_mse = mean_squared_error(y, forest_grid_pred)\n",
    "forest_grid_rmse = np.sqrt(forest_grid_mse)\n",
    "forest_grid_rmse"
   ]
  },
  {
   "cell_type": "code",
   "execution_count": 52,
   "metadata": {
    "id": "ku3xnRSGY8Io"
   },
   "outputs": [],
   "source": [
    "pred = grid_cv.best_estimator_.predict(X_test)"
   ]
  },
  {
   "cell_type": "code",
   "execution_count": 55,
   "metadata": {
    "colab": {
     "base_uri": "https://localhost:8080/",
     "height": 202
    },
    "id": "YEJR4N3FXt1F",
    "outputId": "4eac646a-207e-484b-8023-e9285184bc64"
   },
   "outputs": [],
   "source": [
    "# 提出\n",
    "\n",
    "sample_submission['target'] = pred\n"
   ]
  },
  {
   "cell_type": "code",
   "execution_count": 56,
   "metadata": {
    "id": "h2Yr3tjgZJ7A"
   },
   "outputs": [],
   "source": [
    "# csvファイル書きだし\n",
    "\n",
    "sample_submission.to_csv('sample_submission.csv', index=False)"
   ]
  },
  {
   "cell_type": "code",
   "execution_count": null,
   "metadata": {},
   "outputs": [],
   "source": []
  }
 ],
 "metadata": {
  "accelerator": "GPU",
  "colab": {
   "name": "table.ipynb",
   "provenance": []
  },
  "kernelspec": {
   "display_name": "Python 3",
   "language": "python",
   "name": "python3"
  },
  "language_info": {
   "codemirror_mode": {
    "name": "ipython",
    "version": 3
   },
   "file_extension": ".py",
   "mimetype": "text/x-python",
   "name": "python",
   "nbconvert_exporter": "python",
   "pygments_lexer": "ipython3",
   "version": "3.7.4"
  }
 },
 "nbformat": 4,
 "nbformat_minor": 1
}
