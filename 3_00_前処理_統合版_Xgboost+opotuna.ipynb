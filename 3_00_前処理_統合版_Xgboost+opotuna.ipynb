{
  "nbformat": 4,
  "nbformat_minor": 0,
  "metadata": {
    "colab": {
      "name": "3.00_前処理_統合版_Xgboost+opotuna.ipynb",
      "provenance": [],
      "collapsed_sections": []
    },
    "kernelspec": {
      "display_name": "Python 3",
      "name": "python3"
    }
  },
  "cells": [
    {
      "cell_type": "markdown",
      "metadata": {
        "id": "vYmXKF0oWXQ5"
      },
      "source": [
        "## Import libararies"
      ]
    },
    {
      "cell_type": "code",
      "metadata": {
        "id": "j6Wj3zk9WXeE"
      },
      "source": [
        "import pandas as pd\r\n",
        "import numpy as np\r\n",
        "import requests\r\n",
        "import matplotlib.pyplot as plt\r\n",
        "import seaborn as sns"
      ],
      "execution_count": null,
      "outputs": []
    },
    {
      "cell_type": "code",
      "metadata": {
        "colab": {
          "base_uri": "https://localhost:8080/"
        },
        "id": "LQL8je8awtGx",
        "outputId": "e0ff9028-800a-4077-de98-530b7b3a77cc"
      },
      "source": [
        "# 基本ツール\r\n",
        "import numpy as np\r\n",
        "import matplotlib.pyplot as plt\r\n",
        "import pandas as pd\r\n",
        "from IPython.display import display\r\n",
        "import matplotlib.ticker as ticker\r\n",
        "import seaborn as sns\r\n",
        "import time\r\n",
        "import copy\r\n",
        "\r\n",
        "from xgboost import XGBRegressor\r\n",
        "from sklearn.model_selection import KFold\r\n",
        "from sklearn.metrics import mean_squared_error\r\n",
        "from sklearn.model_selection import train_test_split\r\n",
        "from sklearn.model_selection import cross_val_score\r\n",
        "from sklearn.model_selection import GridSearchCV\r\n",
        "from sklearn.metrics import  r2_score\r\n",
        "\r\n",
        "# optuna\r\n",
        "\r\n",
        "!pip install optuna\r\n",
        "import optuna.integration.lightgbm as lgb\r\n",
        "import optuna\r\n"
      ],
      "execution_count": null,
      "outputs": [
        {
          "output_type": "stream",
          "text": [
            "Collecting optuna\n",
            "\u001b[?25l  Downloading https://files.pythonhosted.org/packages/91/88/9c53460b97c61bce926dfe9dce51e4887c283416ff89ed30af0b73f44efa/optuna-2.5.0-py3-none-any.whl (287kB)\n",
            "\r\u001b[K     |█▏                              | 10kB 18.8MB/s eta 0:00:01\r\u001b[K     |██▎                             | 20kB 10.6MB/s eta 0:00:01\r\u001b[K     |███▍                            | 30kB 8.4MB/s eta 0:00:01\r\u001b[K     |████▋                           | 40kB 7.5MB/s eta 0:00:01\r\u001b[K     |█████▊                          | 51kB 4.3MB/s eta 0:00:01\r\u001b[K     |██████▉                         | 61kB 4.8MB/s eta 0:00:01\r\u001b[K     |████████                        | 71kB 5.2MB/s eta 0:00:01\r\u001b[K     |█████████▏                      | 81kB 5.3MB/s eta 0:00:01\r\u001b[K     |██████████▎                     | 92kB 5.7MB/s eta 0:00:01\r\u001b[K     |███████████▍                    | 102kB 5.7MB/s eta 0:00:01\r\u001b[K     |████████████▌                   | 112kB 5.7MB/s eta 0:00:01\r\u001b[K     |█████████████▊                  | 122kB 5.7MB/s eta 0:00:01\r\u001b[K     |██████████████▉                 | 133kB 5.7MB/s eta 0:00:01\r\u001b[K     |████████████████                | 143kB 5.7MB/s eta 0:00:01\r\u001b[K     |█████████████████               | 153kB 5.7MB/s eta 0:00:01\r\u001b[K     |██████████████████▎             | 163kB 5.7MB/s eta 0:00:01\r\u001b[K     |███████████████████▍            | 174kB 5.7MB/s eta 0:00:01\r\u001b[K     |████████████████████▌           | 184kB 5.7MB/s eta 0:00:01\r\u001b[K     |█████████████████████▋          | 194kB 5.7MB/s eta 0:00:01\r\u001b[K     |██████████████████████▉         | 204kB 5.7MB/s eta 0:00:01\r\u001b[K     |████████████████████████        | 215kB 5.7MB/s eta 0:00:01\r\u001b[K     |█████████████████████████       | 225kB 5.7MB/s eta 0:00:01\r\u001b[K     |██████████████████████████▎     | 235kB 5.7MB/s eta 0:00:01\r\u001b[K     |███████████████████████████▍    | 245kB 5.7MB/s eta 0:00:01\r\u001b[K     |████████████████████████████▌   | 256kB 5.7MB/s eta 0:00:01\r\u001b[K     |█████████████████████████████▋  | 266kB 5.7MB/s eta 0:00:01\r\u001b[K     |██████████████████████████████▉ | 276kB 5.7MB/s eta 0:00:01\r\u001b[K     |████████████████████████████████| 286kB 5.7MB/s eta 0:00:01\r\u001b[K     |████████████████████████████████| 296kB 5.7MB/s \n",
            "\u001b[?25hRequirement already satisfied: packaging>=20.0 in /usr/local/lib/python3.7/dist-packages (from optuna) (20.9)\n",
            "Requirement already satisfied: joblib in /usr/local/lib/python3.7/dist-packages (from optuna) (1.0.1)\n",
            "Requirement already satisfied: tqdm in /usr/local/lib/python3.7/dist-packages (from optuna) (4.41.1)\n",
            "Requirement already satisfied: numpy in /usr/local/lib/python3.7/dist-packages (from optuna) (1.19.5)\n",
            "Collecting cmaes>=0.6.0\n",
            "  Downloading https://files.pythonhosted.org/packages/01/1f/43b01223a0366171f474320c6e966c39a11587287f098a5f09809b45e05f/cmaes-0.8.2-py3-none-any.whl\n",
            "Requirement already satisfied: scipy!=1.4.0 in /usr/local/lib/python3.7/dist-packages (from optuna) (1.4.1)\n",
            "Collecting colorlog\n",
            "  Downloading https://files.pythonhosted.org/packages/5e/39/0230290df0519d528d8d0ffdfd900150ed24e0076d13b1f19e279444aab1/colorlog-4.7.2-py2.py3-none-any.whl\n",
            "Requirement already satisfied: sqlalchemy>=1.1.0 in /usr/local/lib/python3.7/dist-packages (from optuna) (1.3.23)\n",
            "Collecting cliff\n",
            "\u001b[?25l  Downloading https://files.pythonhosted.org/packages/a2/d6/7d9acb68a77acd140be7fececb7f2701b2a29d2da9c54184cb8f93509590/cliff-3.7.0-py3-none-any.whl (80kB)\n",
            "\u001b[K     |████████████████████████████████| 81kB 9.9MB/s \n",
            "\u001b[?25hCollecting alembic\n",
            "\u001b[?25l  Downloading https://files.pythonhosted.org/packages/8e/07/799a76aca0acd406e3259cc6c558ca1cdadf88250953b6c8105b421a9e33/alembic-1.5.5.tar.gz (1.2MB)\n",
            "\u001b[K     |████████████████████████████████| 1.2MB 16.4MB/s \n",
            "\u001b[?25hRequirement already satisfied: pyparsing>=2.0.2 in /usr/local/lib/python3.7/dist-packages (from packaging>=20.0->optuna) (2.4.7)\n",
            "Collecting cmd2>=1.0.0\n",
            "\u001b[?25l  Downloading https://files.pythonhosted.org/packages/15/8b/15061b32332bb35ea2a2f6263d0f616779d576e82739ec8e7fcf3c94abf5/cmd2-1.5.0-py3-none-any.whl (133kB)\n",
            "\u001b[K     |████████████████████████████████| 143kB 33.1MB/s \n",
            "\u001b[?25hRequirement already satisfied: PrettyTable>=0.7.2 in /usr/local/lib/python3.7/dist-packages (from cliff->optuna) (2.0.0)\n",
            "Collecting stevedore>=2.0.1\n",
            "\u001b[?25l  Downloading https://files.pythonhosted.org/packages/d4/49/b602307aeac3df3384ff1fcd05da9c0376c622a6c48bb5325f28ab165b57/stevedore-3.3.0-py3-none-any.whl (49kB)\n",
            "\u001b[K     |████████████████████████████████| 51kB 7.8MB/s \n",
            "\u001b[?25hCollecting pbr!=2.1.0,>=2.0.0\n",
            "\u001b[?25l  Downloading https://files.pythonhosted.org/packages/fb/48/69046506f6ac61c1eaa9a0d42d22d54673b69e176d30ca98e3f61513e980/pbr-5.5.1-py2.py3-none-any.whl (106kB)\n",
            "\u001b[K     |████████████████████████████████| 112kB 36.2MB/s \n",
            "\u001b[?25hRequirement already satisfied: PyYAML>=3.12 in /usr/local/lib/python3.7/dist-packages (from cliff->optuna) (3.13)\n",
            "Collecting Mako\n",
            "\u001b[?25l  Downloading https://files.pythonhosted.org/packages/5c/db/2d2d88b924aa4674a080aae83b59ea19d593250bfe5ed789947c21736785/Mako-1.1.4.tar.gz (479kB)\n",
            "\u001b[K     |████████████████████████████████| 481kB 32.6MB/s \n",
            "\u001b[?25hCollecting python-editor>=0.3\n",
            "  Downloading https://files.pythonhosted.org/packages/c6/d3/201fc3abe391bbae6606e6f1d598c15d367033332bd54352b12f35513717/python_editor-1.0.4-py3-none-any.whl\n",
            "Requirement already satisfied: python-dateutil in /usr/local/lib/python3.7/dist-packages (from alembic->optuna) (2.8.1)\n",
            "Requirement already satisfied: wcwidth>=0.1.7 in /usr/local/lib/python3.7/dist-packages (from cmd2>=1.0.0->cliff->optuna) (0.2.5)\n",
            "Requirement already satisfied: attrs>=16.3.0 in /usr/local/lib/python3.7/dist-packages (from cmd2>=1.0.0->cliff->optuna) (20.3.0)\n",
            "Collecting pyperclip>=1.6\n",
            "  Downloading https://files.pythonhosted.org/packages/a7/2c/4c64579f847bd5d539803c8b909e54ba087a79d01bb3aba433a95879a6c5/pyperclip-1.8.2.tar.gz\n",
            "Requirement already satisfied: importlib-metadata>=1.6.0; python_version < \"3.8\" in /usr/local/lib/python3.7/dist-packages (from cmd2>=1.0.0->cliff->optuna) (3.7.0)\n",
            "Collecting colorama>=0.3.7\n",
            "  Downloading https://files.pythonhosted.org/packages/44/98/5b86278fbbf250d239ae0ecb724f8572af1c91f4a11edf4d36a206189440/colorama-0.4.4-py2.py3-none-any.whl\n",
            "Requirement already satisfied: setuptools in /usr/local/lib/python3.7/dist-packages (from PrettyTable>=0.7.2->cliff->optuna) (53.0.0)\n",
            "Requirement already satisfied: MarkupSafe>=0.9.2 in /usr/local/lib/python3.7/dist-packages (from Mako->alembic->optuna) (1.1.1)\n",
            "Requirement already satisfied: six>=1.5 in /usr/local/lib/python3.7/dist-packages (from python-dateutil->alembic->optuna) (1.15.0)\n",
            "Requirement already satisfied: zipp>=0.5 in /usr/local/lib/python3.7/dist-packages (from importlib-metadata>=1.6.0; python_version < \"3.8\"->cmd2>=1.0.0->cliff->optuna) (3.4.0)\n",
            "Requirement already satisfied: typing-extensions>=3.6.4; python_version < \"3.8\" in /usr/local/lib/python3.7/dist-packages (from importlib-metadata>=1.6.0; python_version < \"3.8\"->cmd2>=1.0.0->cliff->optuna) (3.7.4.3)\n",
            "Building wheels for collected packages: alembic, Mako, pyperclip\n",
            "  Building wheel for alembic (setup.py) ... \u001b[?25l\u001b[?25hdone\n",
            "  Created wheel for alembic: filename=alembic-1.5.5-py2.py3-none-any.whl size=156597 sha256=f2e0ccdb47545abf2af93d7965d609ebcbadaf9f39d6d87d24731bc1bdf61df7\n",
            "  Stored in directory: /root/.cache/pip/wheels/74/3f/61/7de6e3cef766d2680a5d81b1a388286e640f6a681eb589d643\n",
            "  Building wheel for Mako (setup.py) ... \u001b[?25l\u001b[?25hdone\n",
            "  Created wheel for Mako: filename=Mako-1.1.4-py2.py3-none-any.whl size=75675 sha256=88e5732182e9930afb7eb1e353acf01f86954d4673d11add389695d6863c8d26\n",
            "  Stored in directory: /root/.cache/pip/wheels/ad/10/d3/aeb26e20d19045e2a68e5d3cbb57432e11b5d9c92c99f98d47\n",
            "  Building wheel for pyperclip (setup.py) ... \u001b[?25l\u001b[?25hdone\n",
            "  Created wheel for pyperclip: filename=pyperclip-1.8.2-cp37-none-any.whl size=11107 sha256=8f4449ca4ddfda69bcc84797274c57b512b10d4c3b66f3a9ae28569828e31345\n",
            "  Stored in directory: /root/.cache/pip/wheels/25/af/b8/3407109267803f4015e1ee2ff23be0c8c19ce4008665931ee1\n",
            "Successfully built alembic Mako pyperclip\n",
            "Installing collected packages: cmaes, colorlog, pyperclip, colorama, cmd2, pbr, stevedore, cliff, Mako, python-editor, alembic, optuna\n",
            "Successfully installed Mako-1.1.4 alembic-1.5.5 cliff-3.7.0 cmaes-0.8.2 cmd2-1.5.0 colorama-0.4.4 colorlog-4.7.2 optuna-2.5.0 pbr-5.5.1 pyperclip-1.8.2 python-editor-1.0.4 stevedore-3.3.0\n"
          ],
          "name": "stdout"
        }
      ]
    },
    {
      "cell_type": "markdown",
      "metadata": {
        "id": "Eh54Z1CpWeQ6"
      },
      "source": [
        "## Import dataset"
      ]
    },
    {
      "cell_type": "code",
      "metadata": {
        "colab": {
          "base_uri": "https://localhost:8080/"
        },
        "id": "nKr5Adj4WXk2",
        "outputId": "dd020685-8609-49f4-fff7-ef06a9b7497f"
      },
      "source": [
        "from google.colab import drive\r\n",
        "drive.mount('/content/drive')"
      ],
      "execution_count": null,
      "outputs": [
        {
          "output_type": "stream",
          "text": [
            "Mounted at /content/drive\n"
          ],
          "name": "stdout"
        }
      ]
    },
    {
      "cell_type": "code",
      "metadata": {
        "id": "GQHgqpZAWXn-"
      },
      "source": [
        "# Train\r\n",
        "df = pd.read_csv('drive/My Drive/train.csv')"
      ],
      "execution_count": null,
      "outputs": []
    },
    {
      "cell_type": "code",
      "metadata": {
        "id": "RS7Z1OnvLNxb",
        "colab": {
          "base_uri": "https://localhost:8080/"
        },
        "outputId": "806bca24-c782-4ec6-cb50-aea282fed822"
      },
      "source": [
        "# Test\r\n",
        "df = pd.read_csv('drive/My Drive/test.csv')\r\n",
        "df.shape"
      ],
      "execution_count": null,
      "outputs": [
        {
          "output_type": "execute_result",
          "data": {
            "text/plain": [
              "(200000, 25)"
            ]
          },
          "metadata": {
            "tags": []
          },
          "execution_count": 67
        }
      ]
    },
    {
      "cell_type": "markdown",
      "metadata": {
        "id": "94cIhoLpWzlD"
      },
      "source": [
        "## Split dataset into Categorical and Continuous "
      ]
    },
    {
      "cell_type": "markdown",
      "metadata": {
        "id": "IMhSMDkd8NRp"
      },
      "source": [
        "### Train"
      ]
    },
    {
      "cell_type": "code",
      "metadata": {
        "id": "wPe9uNcSWXqi"
      },
      "source": [
        "# Train\r\n",
        "# Categorigal variables + target\r\n",
        "df_cat = df.loc[:, ['cat0', 'cat1', 'cat2','cat3','cat4','cat5','cat6','cat7','cat8','cat9']]\r\n",
        "\r\n",
        "# Continuous variables + target\r\n",
        "df_con = df.loc[:, ['cont0','cont1','cont2','cont3','cont4','cont5','cont6','cont7','cont8','cont9','cont10','cont11','cont12','cont13','target']]\r\n",
        "\r\n",
        "# Target\r\n",
        "y = df['target']"
      ],
      "execution_count": null,
      "outputs": []
    },
    {
      "cell_type": "markdown",
      "metadata": {
        "id": "CeeYv1Fa8SXf"
      },
      "source": [
        "### Test"
      ]
    },
    {
      "cell_type": "code",
      "metadata": {
        "id": "eTQRxv-uLVaM"
      },
      "source": [
        "# Test\r\n",
        "# Categorigal variables + target\r\n",
        "df_cat = df.loc[:, ['cat0', 'cat1', 'cat2','cat3','cat4','cat5','cat6','cat7','cat8','cat9']]\r\n",
        "\r\n",
        "# Continuous variables + target\r\n",
        "df_con = df.loc[:, ['cont0','cont1','cont2','cont3','cont4','cont5','cont6','cont7','cont8','cont9','cont10','cont11','cont12','cont13']]"
      ],
      "execution_count": null,
      "outputs": []
    },
    {
      "cell_type": "markdown",
      "metadata": {
        "id": "VQWOAg6MW_jf"
      },
      "source": [
        "## Process Contiuous variables"
      ]
    },
    {
      "cell_type": "code",
      "metadata": {
        "id": "LzRGvJumWXsz"
      },
      "source": [
        "df_con = df_con.drop( ['cont2','cont3','cont9','cont12','cont13'], axis=1)"
      ],
      "execution_count": null,
      "outputs": []
    },
    {
      "cell_type": "code",
      "metadata": {
        "id": "TdfiavxU3_0P"
      },
      "source": [
        "# def outlier_std(df, thresh=3, columns=None):\r\n",
        "#     if columns == None:\r\n",
        "#         columns = df.columns\r\n",
        "    \r\n",
        "#     for col in columns:\r\n",
        "#         mean = df[col].mean()\r\n",
        "#         std  = df[col].std()\r\n",
        "        \r\n",
        "#         # 平均値から標準偏差の何倍離れているかを計算\r\n",
        "#         border = (np.abs(df[col] - mean)) / std\r\n",
        "        \r\n",
        "#         # 標準偏差の3倍以上離れているデータを除外\r\n",
        "#         df = df[(border < 2.75)]\r\n",
        "        \r\n",
        "#     return df\r\n",
        "  \r\n",
        "#   print('Before', df_con.shape)\r\n",
        "# df_con = outlier_std(df_con, 3, ['target'])\r\n",
        "# print('After ', df_con.shape)"
      ],
      "execution_count": null,
      "outputs": []
    },
    {
      "cell_type": "code",
      "metadata": {
        "id": "hAE8lsD13_6q"
      },
      "source": [
        "# print('Before', df_con.shape)\r\n",
        "# df_con = outlier_std(df_con, 3, ['target'])\r\n",
        "# print('After ', df_con.shape)"
      ],
      "execution_count": null,
      "outputs": []
    },
    {
      "cell_type": "code",
      "metadata": {
        "id": "HTY2BiXZ3_9O"
      },
      "source": [
        "# plt.figure(figsize=(12, 8))\r\n",
        "# plt.title('Before')\r\n",
        "# sns.distplot(df_con['target'])"
      ],
      "execution_count": null,
      "outputs": []
    },
    {
      "cell_type": "code",
      "metadata": {
        "id": "aYNQY7ib4AAI"
      },
      "source": [
        "# df_con['target'] = np.log1p(df_con['target'])"
      ],
      "execution_count": null,
      "outputs": []
    },
    {
      "cell_type": "code",
      "metadata": {
        "id": "b1pJD-RN4ACU"
      },
      "source": [
        "# plt.figure(figsize=(12, 8))\r\n",
        "# plt.title('After')\r\n",
        "# sns.distplot(df_con['target'])"
      ],
      "execution_count": null,
      "outputs": []
    },
    {
      "cell_type": "code",
      "metadata": {
        "id": "sF5Czsl4PsLp"
      },
      "source": [
        "# def outlier_std(df, thresh=3, columns=None):\r\n",
        "#     if columns == None:\r\n",
        "#         columns = df.columns\r\n",
        "    \r\n",
        "#     for col in columns:\r\n",
        "#         mean = df[col].mean()\r\n",
        "#         std  = df[col].std()\r\n",
        "        \r\n",
        "#         # 平均値から標準偏差の何倍離れているかを計算\r\n",
        "#         border = (np.abs(df[col] - mean)) / std\r\n",
        "        \r\n",
        "#         # 標準偏差の3倍以上離れているデータを除外\r\n",
        "#         df = df[(border < 2.90)]\r\n",
        "        \r\n",
        "#     return df\r\n",
        "  \r\n",
        "# print('Before', merged_data.shape)\r\n",
        "# merged_data = outlier_std(merged_data, 2.90, ['target'])\r\n",
        "# print('After ', merged_data.shape)"
      ],
      "execution_count": null,
      "outputs": []
    },
    {
      "cell_type": "code",
      "metadata": {
        "id": "OnPofzge4AEu"
      },
      "source": [
        "# df_con = df_con.drop(columns = 'target', axis=1)"
      ],
      "execution_count": null,
      "outputs": []
    },
    {
      "cell_type": "code",
      "metadata": {
        "id": "cwGFhxUh4AHa"
      },
      "source": [
        "# df_con.info()"
      ],
      "execution_count": null,
      "outputs": []
    },
    {
      "cell_type": "code",
      "metadata": {
        "id": "gswdI2YO4AKb"
      },
      "source": [
        ""
      ],
      "execution_count": null,
      "outputs": []
    },
    {
      "cell_type": "markdown",
      "metadata": {
        "id": "69XytT1HXJc7"
      },
      "source": [
        "## Process Categorical variables"
      ]
    },
    {
      "cell_type": "markdown",
      "metadata": {
        "id": "rBuOMG-Q8k2j"
      },
      "source": [
        "### 要素数を切り口に特徴量を作成"
      ]
    },
    {
      "cell_type": "code",
      "metadata": {
        "id": "QSU9mfILWXvl"
      },
      "source": [
        "def create_count_variables(df_cat):\r\n",
        "\r\n",
        "  df_cat_c_variables = df_cat\r\n",
        "\r\n",
        "  # cat4\r\n",
        "  df_cat_c_variables['cat4_c_variables'] = np.where((df_cat['cat4'] == 'C') | (df_cat['cat4'] == 'D'), 'others', df_cat['cat4'])\r\n",
        "\r\n",
        "  # cat6\r\n",
        "  df_cat_c_variables['cat6_c_variables'] = np.where((df_cat['cat6'] == 'C') | (df_cat['cat6'] == 'D') | (df_cat['cat6'] == 'I') | (df_cat['cat6'] == 'E')\r\n",
        "            | (df_cat['cat6'] == 'H') | (df_cat['cat6'] == 'G'), 'others', df_cat['cat4'])\r\n",
        "\r\n",
        "  # cat7\r\n",
        "  df_cat_c_variables['cat7_c_variables'] = np.where((df_cat['cat7'] == 'F') | (df_cat['cat7'] == 'A') | (df_cat['cat7'] == 'C') | (df_cat['cat7'] == 'I')\r\n",
        "            , 'others', df_cat['cat4'])\r\n",
        "\r\n",
        "  # cat8\r\n",
        "  df_cat_c_variables['cat8_c_variables'] = np.where((df_cat['cat8'] == 'F') | (df_cat['cat8'] == 'B'), 'others', df_cat['cat8'])\r\n",
        "\r\n",
        "  # cat9\r\n",
        "  df_cat_c_variables['cat9_c_variables'] = np.where((df_cat['cat9'] == 'C') | (df_cat['cat9'] == 'D') | (df_cat['cat9'] == 'E'), 'others', df_cat['cat9'])\r\n",
        "\r\n",
        "\r\n",
        "  df_cat_c_variables = df_cat_c_variables.drop( ['cat0','cat1','cat2','cat3','cat4','cat5','cat6','cat7','cat8','cat9'], axis=1)\r\n",
        "\r\n",
        "\r\n",
        "  return df_cat_c_variables"
      ],
      "execution_count": null,
      "outputs": []
    },
    {
      "cell_type": "markdown",
      "metadata": {
        "id": "GoYpRFyv8pUP"
      },
      "source": [
        "### Target Averageを切り口に特徴量を生成"
      ]
    },
    {
      "cell_type": "code",
      "metadata": {
        "id": "XCSYaVIt-03a"
      },
      "source": [
        "def create_t_average_variables(df_cat):\r\n",
        "\r\n",
        "  df_cat_t_average = df_cat\r\n",
        "\r\n",
        "  # cat3\r\n",
        "  df_cat_t_average['cat3_t_average'] = np.where((df_cat['cat3'] == 'C') | (df_cat['cat3'] == 'D') | (df_cat['cat3'] == 'B'), 'high', df_cat['cat3'])\r\n",
        "  df_cat_t_average['cat3_t_average'] = np.where((df_cat['cat3_t_average'] != 'high'), 'low', df_cat['cat3_t_average'])\r\n",
        "\r\n",
        "  # cat4\r\n",
        "  df_cat_t_average['cat4_t_average'] = np.where((df_cat['cat4'] == 'C'), 'high', df_cat['cat4'])\r\n",
        "  df_cat_t_average['cat4_t_average'] = np.where((df_cat['cat4_t_average'] != 'high'), 'low', df_cat['cat4_t_average'])\r\n",
        "\r\n",
        "  # cat5\r\n",
        "  df_cat_t_average['cat5_t_average'] = np.where((df_cat['cat5'] == 'B') | (df_cat['cat5'] == 'D') | (df_cat['cat5'] == 'A'), 'high', df_cat['cat5'])\r\n",
        "  df_cat_t_average['cat5_t_average'] = np.where((df_cat['cat5_t_average'] != 'high'), 'low', df_cat['cat5_t_average'])\r\n",
        "\r\n",
        "  # cat6\r\n",
        "  df_cat_t_average['cat6_t_average'] = np.where((df_cat['cat6'] == 'B'), 'high', df_cat['cat6'])\r\n",
        "  df_cat_t_average['cat6_t_average'] = np.where((df_cat['cat6_t_average'] != 'high'), 'low', df_cat['cat6_t_average'])\r\n",
        "\r\n",
        "  # cat7\r\n",
        "  df_cat_t_average['cat7_t_average'] = np.where((df_cat['cat7'] == 'I'), 'high', df_cat['cat7'])\r\n",
        "  df_cat_t_average['cat7_t_average'] = np.where((df_cat['cat7_t_average'] != 'high'), 'low', df_cat['cat7_t_average'])\r\n",
        "\r\n",
        "  # cat8\r\n",
        "  df_cat_t_average['cat8_t_average'] = np.where((df_cat['cat8'] == 'C') | (df_cat['cat8'] == 'E') | (df_cat['cat8'] == 'A') | (df_cat['cat8'] == 'D') | (df_cat['cat8'] == 'F') | (df_cat['cat8'] == 'B'), 'high', df_cat['cat8'])\r\n",
        "  df_cat_t_average['cat8_t_average'] = np.where((df_cat['cat8_t_average'] != 'high'), 'low', df_cat['cat8_t_average'])\r\n",
        "\r\n",
        "  # cat9\r\n",
        "  df_cat_t_average['cat9_t_average'] = np.where((df_cat['cat9'] == 'L') | (df_cat['cat9'] == 'G') | (df_cat['cat9'] == 'C') | (df_cat['cat9'] == 'E'), 'high', df_cat['cat9'])\r\n",
        "  df_cat_t_average['cat9_t_average'] = np.where((df_cat['cat9_t_average'] != 'high'), 'low', df_cat['cat9_t_average'])\r\n",
        "\r\n",
        "  df_cat_t_average = df_cat_t_average.drop( ['cat0','cat1','cat2','cat3','cat4','cat5','cat6','cat7','cat8','cat9'], axis=1)\r\n",
        "\r\n",
        "  return df_cat_t_average"
      ],
      "execution_count": null,
      "outputs": []
    },
    {
      "cell_type": "code",
      "metadata": {
        "colab": {
          "base_uri": "https://localhost:8080/"
        },
        "id": "2_O4A8Jj86Mh",
        "outputId": "07289464-bd60-4bdc-86ab-797288972d08"
      },
      "source": [
        "df_cat_c_variables = create_count_variables(df_cat)\r\n",
        "df_cat_c_variables.info()"
      ],
      "execution_count": null,
      "outputs": [
        {
          "output_type": "stream",
          "text": [
            "<class 'pandas.core.frame.DataFrame'>\n",
            "RangeIndex: 200000 entries, 0 to 199999\n",
            "Data columns (total 5 columns):\n",
            " #   Column            Non-Null Count   Dtype \n",
            "---  ------            --------------   ----- \n",
            " 0   cat4_c_variables  200000 non-null  object\n",
            " 1   cat6_c_variables  200000 non-null  object\n",
            " 2   cat7_c_variables  200000 non-null  object\n",
            " 3   cat8_c_variables  200000 non-null  object\n",
            " 4   cat9_c_variables  200000 non-null  object\n",
            "dtypes: object(5)\n",
            "memory usage: 7.6+ MB\n"
          ],
          "name": "stdout"
        }
      ]
    },
    {
      "cell_type": "code",
      "metadata": {
        "colab": {
          "base_uri": "https://localhost:8080/"
        },
        "id": "fIiijhNR9sF5",
        "outputId": "19a07ec2-5809-4bf2-f3b8-f98d71ee0801"
      },
      "source": [
        "df_cat_t_average = create_t_average_variables(df_cat)\r\n",
        "df_cat_t_average.info()"
      ],
      "execution_count": null,
      "outputs": [
        {
          "output_type": "stream",
          "text": [
            "<class 'pandas.core.frame.DataFrame'>\n",
            "RangeIndex: 200000 entries, 0 to 199999\n",
            "Data columns (total 12 columns):\n",
            " #   Column            Non-Null Count   Dtype \n",
            "---  ------            --------------   ----- \n",
            " 0   cat4_c_variables  200000 non-null  object\n",
            " 1   cat6_c_variables  200000 non-null  object\n",
            " 2   cat7_c_variables  200000 non-null  object\n",
            " 3   cat8_c_variables  200000 non-null  object\n",
            " 4   cat9_c_variables  200000 non-null  object\n",
            " 5   cat3_t_average    200000 non-null  object\n",
            " 6   cat4_t_average    200000 non-null  object\n",
            " 7   cat5_t_average    200000 non-null  object\n",
            " 8   cat6_t_average    200000 non-null  object\n",
            " 9   cat7_t_average    200000 non-null  object\n",
            " 10  cat8_t_average    200000 non-null  object\n",
            " 11  cat9_t_average    200000 non-null  object\n",
            "dtypes: object(12)\n",
            "memory usage: 18.3+ MB\n"
          ],
          "name": "stdout"
        }
      ]
    },
    {
      "cell_type": "markdown",
      "metadata": {
        "id": "wErz8txwXUIt"
      },
      "source": [
        "### ダミー変数化"
      ]
    },
    {
      "cell_type": "markdown",
      "metadata": {
        "id": "p4Vz1lo89A9I"
      },
      "source": [
        "### カウント数を切り口にした場合"
      ]
    },
    {
      "cell_type": "code",
      "metadata": {
        "colab": {
          "base_uri": "https://localhost:8080/"
        },
        "id": "iJcS_27EWXyD",
        "outputId": "f4e1249f-d834-4553-c1a9-0efdb9e877b8"
      },
      "source": [
        "num = [4,6,7,8,9]\r\n",
        "for n in range(5):\r\n",
        "  df_cat_t_average = pd.get_dummies(df_cat_t_average, columns=['cat'+str(num[n])+'_c_variables'], drop_first=True)\r\n",
        "\r\n",
        "print('done')"
      ],
      "execution_count": null,
      "outputs": [
        {
          "output_type": "stream",
          "text": [
            "done\n"
          ],
          "name": "stdout"
        }
      ]
    },
    {
      "cell_type": "markdown",
      "metadata": {
        "id": "oGldHXU99HPF"
      },
      "source": [
        "### Target Averageを切り口にした場合"
      ]
    },
    {
      "cell_type": "code",
      "metadata": {
        "colab": {
          "base_uri": "https://localhost:8080/"
        },
        "id": "wJiix_v89QVN",
        "outputId": "115bb156-f307-4f36-bd22-fc9546f65446"
      },
      "source": [
        "for n in range(3,10):\r\n",
        "    df_cat_t_average = pd.get_dummies(df_cat_t_average, columns=['cat'+str(n)+'_t_average'], drop_first=True)\r\n",
        "print('done')"
      ],
      "execution_count": null,
      "outputs": [
        {
          "output_type": "stream",
          "text": [
            "done\n"
          ],
          "name": "stdout"
        }
      ]
    },
    {
      "cell_type": "code",
      "metadata": {
        "colab": {
          "base_uri": "https://localhost:8080/"
        },
        "id": "-seEY6njKPuO",
        "outputId": "1d9f3588-b7d8-419e-90e2-f851881dbe47"
      },
      "source": [
        "df_cat_t_average.info()"
      ],
      "execution_count": null,
      "outputs": [
        {
          "output_type": "stream",
          "text": [
            "<class 'pandas.core.frame.DataFrame'>\n",
            "RangeIndex: 200000 entries, 0 to 199999\n",
            "Data columns (total 34 columns):\n",
            " #   Column                   Non-Null Count   Dtype\n",
            "---  ------                   --------------   -----\n",
            " 0   cat4_c_variables_B       200000 non-null  uint8\n",
            " 1   cat4_c_variables_others  200000 non-null  uint8\n",
            " 2   cat6_c_variables_B       200000 non-null  uint8\n",
            " 3   cat6_c_variables_C       200000 non-null  uint8\n",
            " 4   cat6_c_variables_D       200000 non-null  uint8\n",
            " 5   cat6_c_variables_others  200000 non-null  uint8\n",
            " 6   cat7_c_variables_B       200000 non-null  uint8\n",
            " 7   cat7_c_variables_C       200000 non-null  uint8\n",
            " 8   cat7_c_variables_D       200000 non-null  uint8\n",
            " 9   cat7_c_variables_others  200000 non-null  uint8\n",
            " 10  cat8_c_variables_C       200000 non-null  uint8\n",
            " 11  cat8_c_variables_D       200000 non-null  uint8\n",
            " 12  cat8_c_variables_E       200000 non-null  uint8\n",
            " 13  cat8_c_variables_G       200000 non-null  uint8\n",
            " 14  cat8_c_variables_others  200000 non-null  uint8\n",
            " 15  cat9_c_variables_B       200000 non-null  uint8\n",
            " 16  cat9_c_variables_F       200000 non-null  uint8\n",
            " 17  cat9_c_variables_G       200000 non-null  uint8\n",
            " 18  cat9_c_variables_H       200000 non-null  uint8\n",
            " 19  cat9_c_variables_I       200000 non-null  uint8\n",
            " 20  cat9_c_variables_J       200000 non-null  uint8\n",
            " 21  cat9_c_variables_K       200000 non-null  uint8\n",
            " 22  cat9_c_variables_L       200000 non-null  uint8\n",
            " 23  cat9_c_variables_M       200000 non-null  uint8\n",
            " 24  cat9_c_variables_N       200000 non-null  uint8\n",
            " 25  cat9_c_variables_O       200000 non-null  uint8\n",
            " 26  cat9_c_variables_others  200000 non-null  uint8\n",
            " 27  cat3_t_average_low       200000 non-null  uint8\n",
            " 28  cat4_t_average_low       200000 non-null  uint8\n",
            " 29  cat5_t_average_low       200000 non-null  uint8\n",
            " 30  cat6_t_average_low       200000 non-null  uint8\n",
            " 31  cat7_t_average_low       200000 non-null  uint8\n",
            " 32  cat8_t_average_low       200000 non-null  uint8\n",
            " 33  cat9_t_average_low       200000 non-null  uint8\n",
            "dtypes: uint8(34)\n",
            "memory usage: 6.5 MB\n"
          ],
          "name": "stdout"
        }
      ]
    },
    {
      "cell_type": "markdown",
      "metadata": {
        "id": "nO2Q_T27X0ap"
      },
      "source": [
        "### 結合"
      ]
    },
    {
      "cell_type": "code",
      "metadata": {
        "colab": {
          "base_uri": "https://localhost:8080/"
        },
        "id": "wz_H1UejXO_G",
        "outputId": "be6d2c3a-82bf-40c5-b1e6-e7316b29f400"
      },
      "source": [
        "print('df_cat', df_cat_t_average.shape)\r\n",
        "print('df_con', df_con.shape)"
      ],
      "execution_count": null,
      "outputs": [
        {
          "output_type": "stream",
          "text": [
            "df_cat (200000, 34)\n",
            "df_con (200000, 9)\n"
          ],
          "name": "stdout"
        }
      ]
    },
    {
      "cell_type": "code",
      "metadata": {
        "colab": {
          "base_uri": "https://localhost:8080/"
        },
        "id": "SgELfC9IXPBq",
        "outputId": "4323c57e-7f32-4f05-88bc-ed90b94806ec"
      },
      "source": [
        "merged_data = pd.concat([df_cat_t_average, df_con], axis=1)\r\n",
        "merged_data.info()"
      ],
      "execution_count": null,
      "outputs": [
        {
          "output_type": "stream",
          "text": [
            "<class 'pandas.core.frame.DataFrame'>\n",
            "RangeIndex: 200000 entries, 0 to 199999\n",
            "Data columns (total 43 columns):\n",
            " #   Column                   Non-Null Count   Dtype  \n",
            "---  ------                   --------------   -----  \n",
            " 0   cat4_c_variables_B       200000 non-null  uint8  \n",
            " 1   cat4_c_variables_others  200000 non-null  uint8  \n",
            " 2   cat6_c_variables_B       200000 non-null  uint8  \n",
            " 3   cat6_c_variables_C       200000 non-null  uint8  \n",
            " 4   cat6_c_variables_D       200000 non-null  uint8  \n",
            " 5   cat6_c_variables_others  200000 non-null  uint8  \n",
            " 6   cat7_c_variables_B       200000 non-null  uint8  \n",
            " 7   cat7_c_variables_C       200000 non-null  uint8  \n",
            " 8   cat7_c_variables_D       200000 non-null  uint8  \n",
            " 9   cat7_c_variables_others  200000 non-null  uint8  \n",
            " 10  cat8_c_variables_C       200000 non-null  uint8  \n",
            " 11  cat8_c_variables_D       200000 non-null  uint8  \n",
            " 12  cat8_c_variables_E       200000 non-null  uint8  \n",
            " 13  cat8_c_variables_G       200000 non-null  uint8  \n",
            " 14  cat8_c_variables_others  200000 non-null  uint8  \n",
            " 15  cat9_c_variables_B       200000 non-null  uint8  \n",
            " 16  cat9_c_variables_F       200000 non-null  uint8  \n",
            " 17  cat9_c_variables_G       200000 non-null  uint8  \n",
            " 18  cat9_c_variables_H       200000 non-null  uint8  \n",
            " 19  cat9_c_variables_I       200000 non-null  uint8  \n",
            " 20  cat9_c_variables_J       200000 non-null  uint8  \n",
            " 21  cat9_c_variables_K       200000 non-null  uint8  \n",
            " 22  cat9_c_variables_L       200000 non-null  uint8  \n",
            " 23  cat9_c_variables_M       200000 non-null  uint8  \n",
            " 24  cat9_c_variables_N       200000 non-null  uint8  \n",
            " 25  cat9_c_variables_O       200000 non-null  uint8  \n",
            " 26  cat9_c_variables_others  200000 non-null  uint8  \n",
            " 27  cat3_t_average_low       200000 non-null  uint8  \n",
            " 28  cat4_t_average_low       200000 non-null  uint8  \n",
            " 29  cat5_t_average_low       200000 non-null  uint8  \n",
            " 30  cat6_t_average_low       200000 non-null  uint8  \n",
            " 31  cat7_t_average_low       200000 non-null  uint8  \n",
            " 32  cat8_t_average_low       200000 non-null  uint8  \n",
            " 33  cat9_t_average_low       200000 non-null  uint8  \n",
            " 34  cont0                    200000 non-null  float64\n",
            " 35  cont1                    200000 non-null  float64\n",
            " 36  cont4                    200000 non-null  float64\n",
            " 37  cont5                    200000 non-null  float64\n",
            " 38  cont6                    200000 non-null  float64\n",
            " 39  cont7                    200000 non-null  float64\n",
            " 40  cont8                    200000 non-null  float64\n",
            " 41  cont10                   200000 non-null  float64\n",
            " 42  cont11                   200000 non-null  float64\n",
            "dtypes: float64(9), uint8(34)\n",
            "memory usage: 20.2 MB\n"
          ],
          "name": "stdout"
        }
      ]
    },
    {
      "cell_type": "code",
      "metadata": {
        "colab": {
          "base_uri": "https://localhost:8080/",
          "height": 604
        },
        "id": "Ec2Mm5viQy9Q",
        "outputId": "e1b028b6-e3d6-429c-a3bb-0ae46abb7d4f"
      },
      "source": [
        "def outlier_std(df, thresh=3, columns=None):\r\n",
        "    if columns == None:\r\n",
        "        columns = df.columns\r\n",
        "    \r\n",
        "    for col in columns:\r\n",
        "        mean = df[col].mean()\r\n",
        "        std  = df[col].std()\r\n",
        "        \r\n",
        "        # 平均値から標準偏差の何倍離れているかを計算\r\n",
        "        border = (np.abs(df[col] - mean)) / std\r\n",
        "        \r\n",
        "        # 標準偏差の3倍以上離れているデータを除外\r\n",
        "        df = df[(border < 3.00)]\r\n",
        "        \r\n",
        "    return df\r\n",
        "  \r\n",
        "print('Before', merged_data.shape)\r\n",
        "merged_data = outlier_std(merged_data, 3.00, ['target'])\r\n",
        "print('After ', merged_data.shape)"
      ],
      "execution_count": null,
      "outputs": [
        {
          "output_type": "stream",
          "text": [
            "Before (200000, 43)\n"
          ],
          "name": "stdout"
        },
        {
          "output_type": "error",
          "ename": "KeyError",
          "evalue": "ignored",
          "traceback": [
            "\u001b[0;31m---------------------------------------------------------------------------\u001b[0m",
            "\u001b[0;31mKeyError\u001b[0m                                  Traceback (most recent call last)",
            "\u001b[0;32m/usr/local/lib/python3.7/dist-packages/pandas/core/indexes/base.py\u001b[0m in \u001b[0;36mget_loc\u001b[0;34m(self, key, method, tolerance)\u001b[0m\n\u001b[1;32m   2897\u001b[0m             \u001b[0;32mtry\u001b[0m\u001b[0;34m:\u001b[0m\u001b[0;34m\u001b[0m\u001b[0;34m\u001b[0m\u001b[0m\n\u001b[0;32m-> 2898\u001b[0;31m                 \u001b[0;32mreturn\u001b[0m \u001b[0mself\u001b[0m\u001b[0;34m.\u001b[0m\u001b[0m_engine\u001b[0m\u001b[0;34m.\u001b[0m\u001b[0mget_loc\u001b[0m\u001b[0;34m(\u001b[0m\u001b[0mcasted_key\u001b[0m\u001b[0;34m)\u001b[0m\u001b[0;34m\u001b[0m\u001b[0;34m\u001b[0m\u001b[0m\n\u001b[0m\u001b[1;32m   2899\u001b[0m             \u001b[0;32mexcept\u001b[0m \u001b[0mKeyError\u001b[0m \u001b[0;32mas\u001b[0m \u001b[0merr\u001b[0m\u001b[0;34m:\u001b[0m\u001b[0;34m\u001b[0m\u001b[0;34m\u001b[0m\u001b[0m\n",
            "\u001b[0;32mpandas/_libs/index.pyx\u001b[0m in \u001b[0;36mpandas._libs.index.IndexEngine.get_loc\u001b[0;34m()\u001b[0m\n",
            "\u001b[0;32mpandas/_libs/index.pyx\u001b[0m in \u001b[0;36mpandas._libs.index.IndexEngine.get_loc\u001b[0;34m()\u001b[0m\n",
            "\u001b[0;32mpandas/_libs/hashtable_class_helper.pxi\u001b[0m in \u001b[0;36mpandas._libs.hashtable.PyObjectHashTable.get_item\u001b[0;34m()\u001b[0m\n",
            "\u001b[0;32mpandas/_libs/hashtable_class_helper.pxi\u001b[0m in \u001b[0;36mpandas._libs.hashtable.PyObjectHashTable.get_item\u001b[0;34m()\u001b[0m\n",
            "\u001b[0;31mKeyError\u001b[0m: 'target'",
            "\nThe above exception was the direct cause of the following exception:\n",
            "\u001b[0;31mKeyError\u001b[0m                                  Traceback (most recent call last)",
            "\u001b[0;32m<ipython-input-87-a9cfd53982cb>\u001b[0m in \u001b[0;36m<module>\u001b[0;34m()\u001b[0m\n\u001b[1;32m     16\u001b[0m \u001b[0;34m\u001b[0m\u001b[0m\n\u001b[1;32m     17\u001b[0m \u001b[0mprint\u001b[0m\u001b[0;34m(\u001b[0m\u001b[0;34m'Before'\u001b[0m\u001b[0;34m,\u001b[0m \u001b[0mmerged_data\u001b[0m\u001b[0;34m.\u001b[0m\u001b[0mshape\u001b[0m\u001b[0;34m)\u001b[0m\u001b[0;34m\u001b[0m\u001b[0;34m\u001b[0m\u001b[0m\n\u001b[0;32m---> 18\u001b[0;31m \u001b[0mmerged_data\u001b[0m \u001b[0;34m=\u001b[0m \u001b[0moutlier_std\u001b[0m\u001b[0;34m(\u001b[0m\u001b[0mmerged_data\u001b[0m\u001b[0;34m,\u001b[0m \u001b[0;36m3.00\u001b[0m\u001b[0;34m,\u001b[0m \u001b[0;34m[\u001b[0m\u001b[0;34m'target'\u001b[0m\u001b[0;34m]\u001b[0m\u001b[0;34m)\u001b[0m\u001b[0;34m\u001b[0m\u001b[0;34m\u001b[0m\u001b[0m\n\u001b[0m\u001b[1;32m     19\u001b[0m \u001b[0mprint\u001b[0m\u001b[0;34m(\u001b[0m\u001b[0;34m'After '\u001b[0m\u001b[0;34m,\u001b[0m \u001b[0mmerged_data\u001b[0m\u001b[0;34m.\u001b[0m\u001b[0mshape\u001b[0m\u001b[0;34m)\u001b[0m\u001b[0;34m\u001b[0m\u001b[0;34m\u001b[0m\u001b[0m\n",
            "\u001b[0;32m<ipython-input-87-a9cfd53982cb>\u001b[0m in \u001b[0;36moutlier_std\u001b[0;34m(df, thresh, columns)\u001b[0m\n\u001b[1;32m      4\u001b[0m \u001b[0;34m\u001b[0m\u001b[0m\n\u001b[1;32m      5\u001b[0m     \u001b[0;32mfor\u001b[0m \u001b[0mcol\u001b[0m \u001b[0;32min\u001b[0m \u001b[0mcolumns\u001b[0m\u001b[0;34m:\u001b[0m\u001b[0;34m\u001b[0m\u001b[0;34m\u001b[0m\u001b[0m\n\u001b[0;32m----> 6\u001b[0;31m         \u001b[0mmean\u001b[0m \u001b[0;34m=\u001b[0m \u001b[0mdf\u001b[0m\u001b[0;34m[\u001b[0m\u001b[0mcol\u001b[0m\u001b[0;34m]\u001b[0m\u001b[0;34m.\u001b[0m\u001b[0mmean\u001b[0m\u001b[0;34m(\u001b[0m\u001b[0;34m)\u001b[0m\u001b[0;34m\u001b[0m\u001b[0;34m\u001b[0m\u001b[0m\n\u001b[0m\u001b[1;32m      7\u001b[0m         \u001b[0mstd\u001b[0m  \u001b[0;34m=\u001b[0m \u001b[0mdf\u001b[0m\u001b[0;34m[\u001b[0m\u001b[0mcol\u001b[0m\u001b[0;34m]\u001b[0m\u001b[0;34m.\u001b[0m\u001b[0mstd\u001b[0m\u001b[0;34m(\u001b[0m\u001b[0;34m)\u001b[0m\u001b[0;34m\u001b[0m\u001b[0;34m\u001b[0m\u001b[0m\n\u001b[1;32m      8\u001b[0m \u001b[0;34m\u001b[0m\u001b[0m\n",
            "\u001b[0;32m/usr/local/lib/python3.7/dist-packages/pandas/core/frame.py\u001b[0m in \u001b[0;36m__getitem__\u001b[0;34m(self, key)\u001b[0m\n\u001b[1;32m   2904\u001b[0m             \u001b[0;32mif\u001b[0m \u001b[0mself\u001b[0m\u001b[0;34m.\u001b[0m\u001b[0mcolumns\u001b[0m\u001b[0;34m.\u001b[0m\u001b[0mnlevels\u001b[0m \u001b[0;34m>\u001b[0m \u001b[0;36m1\u001b[0m\u001b[0;34m:\u001b[0m\u001b[0;34m\u001b[0m\u001b[0;34m\u001b[0m\u001b[0m\n\u001b[1;32m   2905\u001b[0m                 \u001b[0;32mreturn\u001b[0m \u001b[0mself\u001b[0m\u001b[0;34m.\u001b[0m\u001b[0m_getitem_multilevel\u001b[0m\u001b[0;34m(\u001b[0m\u001b[0mkey\u001b[0m\u001b[0;34m)\u001b[0m\u001b[0;34m\u001b[0m\u001b[0;34m\u001b[0m\u001b[0m\n\u001b[0;32m-> 2906\u001b[0;31m             \u001b[0mindexer\u001b[0m \u001b[0;34m=\u001b[0m \u001b[0mself\u001b[0m\u001b[0;34m.\u001b[0m\u001b[0mcolumns\u001b[0m\u001b[0;34m.\u001b[0m\u001b[0mget_loc\u001b[0m\u001b[0;34m(\u001b[0m\u001b[0mkey\u001b[0m\u001b[0;34m)\u001b[0m\u001b[0;34m\u001b[0m\u001b[0;34m\u001b[0m\u001b[0m\n\u001b[0m\u001b[1;32m   2907\u001b[0m             \u001b[0;32mif\u001b[0m \u001b[0mis_integer\u001b[0m\u001b[0;34m(\u001b[0m\u001b[0mindexer\u001b[0m\u001b[0;34m)\u001b[0m\u001b[0;34m:\u001b[0m\u001b[0;34m\u001b[0m\u001b[0;34m\u001b[0m\u001b[0m\n\u001b[1;32m   2908\u001b[0m                 \u001b[0mindexer\u001b[0m \u001b[0;34m=\u001b[0m \u001b[0;34m[\u001b[0m\u001b[0mindexer\u001b[0m\u001b[0;34m]\u001b[0m\u001b[0;34m\u001b[0m\u001b[0;34m\u001b[0m\u001b[0m\n",
            "\u001b[0;32m/usr/local/lib/python3.7/dist-packages/pandas/core/indexes/base.py\u001b[0m in \u001b[0;36mget_loc\u001b[0;34m(self, key, method, tolerance)\u001b[0m\n\u001b[1;32m   2898\u001b[0m                 \u001b[0;32mreturn\u001b[0m \u001b[0mself\u001b[0m\u001b[0;34m.\u001b[0m\u001b[0m_engine\u001b[0m\u001b[0;34m.\u001b[0m\u001b[0mget_loc\u001b[0m\u001b[0;34m(\u001b[0m\u001b[0mcasted_key\u001b[0m\u001b[0;34m)\u001b[0m\u001b[0;34m\u001b[0m\u001b[0;34m\u001b[0m\u001b[0m\n\u001b[1;32m   2899\u001b[0m             \u001b[0;32mexcept\u001b[0m \u001b[0mKeyError\u001b[0m \u001b[0;32mas\u001b[0m \u001b[0merr\u001b[0m\u001b[0;34m:\u001b[0m\u001b[0;34m\u001b[0m\u001b[0;34m\u001b[0m\u001b[0m\n\u001b[0;32m-> 2900\u001b[0;31m                 \u001b[0;32mraise\u001b[0m \u001b[0mKeyError\u001b[0m\u001b[0;34m(\u001b[0m\u001b[0mkey\u001b[0m\u001b[0;34m)\u001b[0m \u001b[0;32mfrom\u001b[0m \u001b[0merr\u001b[0m\u001b[0;34m\u001b[0m\u001b[0;34m\u001b[0m\u001b[0m\n\u001b[0m\u001b[1;32m   2901\u001b[0m \u001b[0;34m\u001b[0m\u001b[0m\n\u001b[1;32m   2902\u001b[0m         \u001b[0;32mif\u001b[0m \u001b[0mtolerance\u001b[0m \u001b[0;32mis\u001b[0m \u001b[0;32mnot\u001b[0m \u001b[0;32mNone\u001b[0m\u001b[0;34m:\u001b[0m\u001b[0;34m\u001b[0m\u001b[0;34m\u001b[0m\u001b[0m\n",
            "\u001b[0;31mKeyError\u001b[0m: 'target'"
          ]
        }
      ]
    },
    {
      "cell_type": "code",
      "metadata": {
        "id": "vHwppnDVR9MU",
        "colab": {
          "base_uri": "https://localhost:8080/",
          "height": 586
        },
        "outputId": "b89dacfb-3974-456e-9c89-a1e9a95b85a2"
      },
      "source": [
        "y = merged_data['target']"
      ],
      "execution_count": null,
      "outputs": [
        {
          "output_type": "error",
          "ename": "KeyError",
          "evalue": "ignored",
          "traceback": [
            "\u001b[0;31m---------------------------------------------------------------------------\u001b[0m",
            "\u001b[0;31mKeyError\u001b[0m                                  Traceback (most recent call last)",
            "\u001b[0;32m/usr/local/lib/python3.7/dist-packages/pandas/core/indexes/base.py\u001b[0m in \u001b[0;36mget_loc\u001b[0;34m(self, key, method, tolerance)\u001b[0m\n\u001b[1;32m   2897\u001b[0m             \u001b[0;32mtry\u001b[0m\u001b[0;34m:\u001b[0m\u001b[0;34m\u001b[0m\u001b[0;34m\u001b[0m\u001b[0m\n\u001b[0;32m-> 2898\u001b[0;31m                 \u001b[0;32mreturn\u001b[0m \u001b[0mself\u001b[0m\u001b[0;34m.\u001b[0m\u001b[0m_engine\u001b[0m\u001b[0;34m.\u001b[0m\u001b[0mget_loc\u001b[0m\u001b[0;34m(\u001b[0m\u001b[0mcasted_key\u001b[0m\u001b[0;34m)\u001b[0m\u001b[0;34m\u001b[0m\u001b[0;34m\u001b[0m\u001b[0m\n\u001b[0m\u001b[1;32m   2899\u001b[0m             \u001b[0;32mexcept\u001b[0m \u001b[0mKeyError\u001b[0m \u001b[0;32mas\u001b[0m \u001b[0merr\u001b[0m\u001b[0;34m:\u001b[0m\u001b[0;34m\u001b[0m\u001b[0;34m\u001b[0m\u001b[0m\n",
            "\u001b[0;32mpandas/_libs/index.pyx\u001b[0m in \u001b[0;36mpandas._libs.index.IndexEngine.get_loc\u001b[0;34m()\u001b[0m\n",
            "\u001b[0;32mpandas/_libs/index.pyx\u001b[0m in \u001b[0;36mpandas._libs.index.IndexEngine.get_loc\u001b[0;34m()\u001b[0m\n",
            "\u001b[0;32mpandas/_libs/hashtable_class_helper.pxi\u001b[0m in \u001b[0;36mpandas._libs.hashtable.PyObjectHashTable.get_item\u001b[0;34m()\u001b[0m\n",
            "\u001b[0;32mpandas/_libs/hashtable_class_helper.pxi\u001b[0m in \u001b[0;36mpandas._libs.hashtable.PyObjectHashTable.get_item\u001b[0;34m()\u001b[0m\n",
            "\u001b[0;31mKeyError\u001b[0m: 'target'",
            "\nThe above exception was the direct cause of the following exception:\n",
            "\u001b[0;31mKeyError\u001b[0m                                  Traceback (most recent call last)",
            "\u001b[0;32m<ipython-input-88-b51ce32df12f>\u001b[0m in \u001b[0;36m<module>\u001b[0;34m()\u001b[0m\n\u001b[0;32m----> 1\u001b[0;31m \u001b[0my\u001b[0m \u001b[0;34m=\u001b[0m \u001b[0mmerged_data\u001b[0m\u001b[0;34m[\u001b[0m\u001b[0;34m'target'\u001b[0m\u001b[0;34m]\u001b[0m\u001b[0;34m\u001b[0m\u001b[0;34m\u001b[0m\u001b[0m\n\u001b[0m",
            "\u001b[0;32m/usr/local/lib/python3.7/dist-packages/pandas/core/frame.py\u001b[0m in \u001b[0;36m__getitem__\u001b[0;34m(self, key)\u001b[0m\n\u001b[1;32m   2904\u001b[0m             \u001b[0;32mif\u001b[0m \u001b[0mself\u001b[0m\u001b[0;34m.\u001b[0m\u001b[0mcolumns\u001b[0m\u001b[0;34m.\u001b[0m\u001b[0mnlevels\u001b[0m \u001b[0;34m>\u001b[0m \u001b[0;36m1\u001b[0m\u001b[0;34m:\u001b[0m\u001b[0;34m\u001b[0m\u001b[0;34m\u001b[0m\u001b[0m\n\u001b[1;32m   2905\u001b[0m                 \u001b[0;32mreturn\u001b[0m \u001b[0mself\u001b[0m\u001b[0;34m.\u001b[0m\u001b[0m_getitem_multilevel\u001b[0m\u001b[0;34m(\u001b[0m\u001b[0mkey\u001b[0m\u001b[0;34m)\u001b[0m\u001b[0;34m\u001b[0m\u001b[0;34m\u001b[0m\u001b[0m\n\u001b[0;32m-> 2906\u001b[0;31m             \u001b[0mindexer\u001b[0m \u001b[0;34m=\u001b[0m \u001b[0mself\u001b[0m\u001b[0;34m.\u001b[0m\u001b[0mcolumns\u001b[0m\u001b[0;34m.\u001b[0m\u001b[0mget_loc\u001b[0m\u001b[0;34m(\u001b[0m\u001b[0mkey\u001b[0m\u001b[0;34m)\u001b[0m\u001b[0;34m\u001b[0m\u001b[0;34m\u001b[0m\u001b[0m\n\u001b[0m\u001b[1;32m   2907\u001b[0m             \u001b[0;32mif\u001b[0m \u001b[0mis_integer\u001b[0m\u001b[0;34m(\u001b[0m\u001b[0mindexer\u001b[0m\u001b[0;34m)\u001b[0m\u001b[0;34m:\u001b[0m\u001b[0;34m\u001b[0m\u001b[0;34m\u001b[0m\u001b[0m\n\u001b[1;32m   2908\u001b[0m                 \u001b[0mindexer\u001b[0m \u001b[0;34m=\u001b[0m \u001b[0;34m[\u001b[0m\u001b[0mindexer\u001b[0m\u001b[0;34m]\u001b[0m\u001b[0;34m\u001b[0m\u001b[0;34m\u001b[0m\u001b[0m\n",
            "\u001b[0;32m/usr/local/lib/python3.7/dist-packages/pandas/core/indexes/base.py\u001b[0m in \u001b[0;36mget_loc\u001b[0;34m(self, key, method, tolerance)\u001b[0m\n\u001b[1;32m   2898\u001b[0m                 \u001b[0;32mreturn\u001b[0m \u001b[0mself\u001b[0m\u001b[0;34m.\u001b[0m\u001b[0m_engine\u001b[0m\u001b[0;34m.\u001b[0m\u001b[0mget_loc\u001b[0m\u001b[0;34m(\u001b[0m\u001b[0mcasted_key\u001b[0m\u001b[0;34m)\u001b[0m\u001b[0;34m\u001b[0m\u001b[0;34m\u001b[0m\u001b[0m\n\u001b[1;32m   2899\u001b[0m             \u001b[0;32mexcept\u001b[0m \u001b[0mKeyError\u001b[0m \u001b[0;32mas\u001b[0m \u001b[0merr\u001b[0m\u001b[0;34m:\u001b[0m\u001b[0;34m\u001b[0m\u001b[0;34m\u001b[0m\u001b[0m\n\u001b[0;32m-> 2900\u001b[0;31m                 \u001b[0;32mraise\u001b[0m \u001b[0mKeyError\u001b[0m\u001b[0;34m(\u001b[0m\u001b[0mkey\u001b[0m\u001b[0;34m)\u001b[0m \u001b[0;32mfrom\u001b[0m \u001b[0merr\u001b[0m\u001b[0;34m\u001b[0m\u001b[0;34m\u001b[0m\u001b[0m\n\u001b[0m\u001b[1;32m   2901\u001b[0m \u001b[0;34m\u001b[0m\u001b[0m\n\u001b[1;32m   2902\u001b[0m         \u001b[0;32mif\u001b[0m \u001b[0mtolerance\u001b[0m \u001b[0;32mis\u001b[0m \u001b[0;32mnot\u001b[0m \u001b[0;32mNone\u001b[0m\u001b[0;34m:\u001b[0m\u001b[0;34m\u001b[0m\u001b[0;34m\u001b[0m\u001b[0m\n",
            "\u001b[0;31mKeyError\u001b[0m: 'target'"
          ]
        }
      ]
    },
    {
      "cell_type": "code",
      "metadata": {
        "id": "-iLU8NhGRqC9",
        "colab": {
          "base_uri": "https://localhost:8080/",
          "height": 320
        },
        "outputId": "3ab32ca4-64dd-4daa-aed9-8970de07728b"
      },
      "source": [
        "merged_data = merged_data.drop(columns = 'target', axis=1)"
      ],
      "execution_count": null,
      "outputs": [
        {
          "output_type": "error",
          "ename": "KeyError",
          "evalue": "ignored",
          "traceback": [
            "\u001b[0;31m---------------------------------------------------------------------------\u001b[0m",
            "\u001b[0;31mKeyError\u001b[0m                                  Traceback (most recent call last)",
            "\u001b[0;32m<ipython-input-89-93f478016247>\u001b[0m in \u001b[0;36m<module>\u001b[0;34m()\u001b[0m\n\u001b[0;32m----> 1\u001b[0;31m \u001b[0mmerged_data\u001b[0m \u001b[0;34m=\u001b[0m \u001b[0mmerged_data\u001b[0m\u001b[0;34m.\u001b[0m\u001b[0mdrop\u001b[0m\u001b[0;34m(\u001b[0m\u001b[0mcolumns\u001b[0m \u001b[0;34m=\u001b[0m \u001b[0;34m'target'\u001b[0m\u001b[0;34m,\u001b[0m \u001b[0maxis\u001b[0m\u001b[0;34m=\u001b[0m\u001b[0;36m1\u001b[0m\u001b[0;34m)\u001b[0m\u001b[0;34m\u001b[0m\u001b[0;34m\u001b[0m\u001b[0m\n\u001b[0m",
            "\u001b[0;32m/usr/local/lib/python3.7/dist-packages/pandas/core/frame.py\u001b[0m in \u001b[0;36mdrop\u001b[0;34m(self, labels, axis, index, columns, level, inplace, errors)\u001b[0m\n\u001b[1;32m   4172\u001b[0m             \u001b[0mlevel\u001b[0m\u001b[0;34m=\u001b[0m\u001b[0mlevel\u001b[0m\u001b[0;34m,\u001b[0m\u001b[0;34m\u001b[0m\u001b[0;34m\u001b[0m\u001b[0m\n\u001b[1;32m   4173\u001b[0m             \u001b[0minplace\u001b[0m\u001b[0;34m=\u001b[0m\u001b[0minplace\u001b[0m\u001b[0;34m,\u001b[0m\u001b[0;34m\u001b[0m\u001b[0;34m\u001b[0m\u001b[0m\n\u001b[0;32m-> 4174\u001b[0;31m             \u001b[0merrors\u001b[0m\u001b[0;34m=\u001b[0m\u001b[0merrors\u001b[0m\u001b[0;34m,\u001b[0m\u001b[0;34m\u001b[0m\u001b[0;34m\u001b[0m\u001b[0m\n\u001b[0m\u001b[1;32m   4175\u001b[0m         )\n\u001b[1;32m   4176\u001b[0m \u001b[0;34m\u001b[0m\u001b[0m\n",
            "\u001b[0;32m/usr/local/lib/python3.7/dist-packages/pandas/core/generic.py\u001b[0m in \u001b[0;36mdrop\u001b[0;34m(self, labels, axis, index, columns, level, inplace, errors)\u001b[0m\n\u001b[1;32m   3887\u001b[0m         \u001b[0;32mfor\u001b[0m \u001b[0maxis\u001b[0m\u001b[0;34m,\u001b[0m \u001b[0mlabels\u001b[0m \u001b[0;32min\u001b[0m \u001b[0maxes\u001b[0m\u001b[0;34m.\u001b[0m\u001b[0mitems\u001b[0m\u001b[0;34m(\u001b[0m\u001b[0;34m)\u001b[0m\u001b[0;34m:\u001b[0m\u001b[0;34m\u001b[0m\u001b[0;34m\u001b[0m\u001b[0m\n\u001b[1;32m   3888\u001b[0m             \u001b[0;32mif\u001b[0m \u001b[0mlabels\u001b[0m \u001b[0;32mis\u001b[0m \u001b[0;32mnot\u001b[0m \u001b[0;32mNone\u001b[0m\u001b[0;34m:\u001b[0m\u001b[0;34m\u001b[0m\u001b[0;34m\u001b[0m\u001b[0m\n\u001b[0;32m-> 3889\u001b[0;31m                 \u001b[0mobj\u001b[0m \u001b[0;34m=\u001b[0m \u001b[0mobj\u001b[0m\u001b[0;34m.\u001b[0m\u001b[0m_drop_axis\u001b[0m\u001b[0;34m(\u001b[0m\u001b[0mlabels\u001b[0m\u001b[0;34m,\u001b[0m \u001b[0maxis\u001b[0m\u001b[0;34m,\u001b[0m \u001b[0mlevel\u001b[0m\u001b[0;34m=\u001b[0m\u001b[0mlevel\u001b[0m\u001b[0;34m,\u001b[0m \u001b[0merrors\u001b[0m\u001b[0;34m=\u001b[0m\u001b[0merrors\u001b[0m\u001b[0;34m)\u001b[0m\u001b[0;34m\u001b[0m\u001b[0;34m\u001b[0m\u001b[0m\n\u001b[0m\u001b[1;32m   3890\u001b[0m \u001b[0;34m\u001b[0m\u001b[0m\n\u001b[1;32m   3891\u001b[0m         \u001b[0;32mif\u001b[0m \u001b[0minplace\u001b[0m\u001b[0;34m:\u001b[0m\u001b[0;34m\u001b[0m\u001b[0;34m\u001b[0m\u001b[0m\n",
            "\u001b[0;32m/usr/local/lib/python3.7/dist-packages/pandas/core/generic.py\u001b[0m in \u001b[0;36m_drop_axis\u001b[0;34m(self, labels, axis, level, errors)\u001b[0m\n\u001b[1;32m   3921\u001b[0m                 \u001b[0mnew_axis\u001b[0m \u001b[0;34m=\u001b[0m \u001b[0maxis\u001b[0m\u001b[0;34m.\u001b[0m\u001b[0mdrop\u001b[0m\u001b[0;34m(\u001b[0m\u001b[0mlabels\u001b[0m\u001b[0;34m,\u001b[0m \u001b[0mlevel\u001b[0m\u001b[0;34m=\u001b[0m\u001b[0mlevel\u001b[0m\u001b[0;34m,\u001b[0m \u001b[0merrors\u001b[0m\u001b[0;34m=\u001b[0m\u001b[0merrors\u001b[0m\u001b[0;34m)\u001b[0m\u001b[0;34m\u001b[0m\u001b[0;34m\u001b[0m\u001b[0m\n\u001b[1;32m   3922\u001b[0m             \u001b[0;32melse\u001b[0m\u001b[0;34m:\u001b[0m\u001b[0;34m\u001b[0m\u001b[0;34m\u001b[0m\u001b[0m\n\u001b[0;32m-> 3923\u001b[0;31m                 \u001b[0mnew_axis\u001b[0m \u001b[0;34m=\u001b[0m \u001b[0maxis\u001b[0m\u001b[0;34m.\u001b[0m\u001b[0mdrop\u001b[0m\u001b[0;34m(\u001b[0m\u001b[0mlabels\u001b[0m\u001b[0;34m,\u001b[0m \u001b[0merrors\u001b[0m\u001b[0;34m=\u001b[0m\u001b[0merrors\u001b[0m\u001b[0;34m)\u001b[0m\u001b[0;34m\u001b[0m\u001b[0;34m\u001b[0m\u001b[0m\n\u001b[0m\u001b[1;32m   3924\u001b[0m             \u001b[0mresult\u001b[0m \u001b[0;34m=\u001b[0m \u001b[0mself\u001b[0m\u001b[0;34m.\u001b[0m\u001b[0mreindex\u001b[0m\u001b[0;34m(\u001b[0m\u001b[0;34m**\u001b[0m\u001b[0;34m{\u001b[0m\u001b[0maxis_name\u001b[0m\u001b[0;34m:\u001b[0m \u001b[0mnew_axis\u001b[0m\u001b[0;34m}\u001b[0m\u001b[0;34m)\u001b[0m\u001b[0;34m\u001b[0m\u001b[0;34m\u001b[0m\u001b[0m\n\u001b[1;32m   3925\u001b[0m \u001b[0;34m\u001b[0m\u001b[0m\n",
            "\u001b[0;32m/usr/local/lib/python3.7/dist-packages/pandas/core/indexes/base.py\u001b[0m in \u001b[0;36mdrop\u001b[0;34m(self, labels, errors)\u001b[0m\n\u001b[1;32m   5285\u001b[0m         \u001b[0;32mif\u001b[0m \u001b[0mmask\u001b[0m\u001b[0;34m.\u001b[0m\u001b[0many\u001b[0m\u001b[0;34m(\u001b[0m\u001b[0;34m)\u001b[0m\u001b[0;34m:\u001b[0m\u001b[0;34m\u001b[0m\u001b[0;34m\u001b[0m\u001b[0m\n\u001b[1;32m   5286\u001b[0m             \u001b[0;32mif\u001b[0m \u001b[0merrors\u001b[0m \u001b[0;34m!=\u001b[0m \u001b[0;34m\"ignore\"\u001b[0m\u001b[0;34m:\u001b[0m\u001b[0;34m\u001b[0m\u001b[0;34m\u001b[0m\u001b[0m\n\u001b[0;32m-> 5287\u001b[0;31m                 \u001b[0;32mraise\u001b[0m \u001b[0mKeyError\u001b[0m\u001b[0;34m(\u001b[0m\u001b[0;34mf\"{labels[mask]} not found in axis\"\u001b[0m\u001b[0;34m)\u001b[0m\u001b[0;34m\u001b[0m\u001b[0;34m\u001b[0m\u001b[0m\n\u001b[0m\u001b[1;32m   5288\u001b[0m             \u001b[0mindexer\u001b[0m \u001b[0;34m=\u001b[0m \u001b[0mindexer\u001b[0m\u001b[0;34m[\u001b[0m\u001b[0;34m~\u001b[0m\u001b[0mmask\u001b[0m\u001b[0;34m]\u001b[0m\u001b[0;34m\u001b[0m\u001b[0;34m\u001b[0m\u001b[0m\n\u001b[1;32m   5289\u001b[0m         \u001b[0;32mreturn\u001b[0m \u001b[0mself\u001b[0m\u001b[0;34m.\u001b[0m\u001b[0mdelete\u001b[0m\u001b[0;34m(\u001b[0m\u001b[0mindexer\u001b[0m\u001b[0;34m)\u001b[0m\u001b[0;34m\u001b[0m\u001b[0;34m\u001b[0m\u001b[0m\n",
            "\u001b[0;31mKeyError\u001b[0m: \"['target'] not found in axis\""
          ]
        }
      ]
    },
    {
      "cell_type": "markdown",
      "metadata": {
        "id": "dRR0aqJGY7Sx"
      },
      "source": [
        "### Scaling"
      ]
    },
    {
      "cell_type": "code",
      "metadata": {
        "colab": {
          "base_uri": "https://localhost:8080/"
        },
        "id": "HFu1zjSCZAo1",
        "outputId": "72419530-c593-4067-b9b2-d66b7d1670b0"
      },
      "source": [
        "merged_data.shape"
      ],
      "execution_count": null,
      "outputs": [
        {
          "output_type": "execute_result",
          "data": {
            "text/plain": [
              "(200000, 43)"
            ]
          },
          "metadata": {
            "tags": []
          },
          "execution_count": 59
        }
      ]
    },
    {
      "cell_type": "code",
      "metadata": {
        "colab": {
          "base_uri": "https://localhost:8080/"
        },
        "id": "Jjpk50bnZvKL",
        "outputId": "213d8b57-0f0e-4800-f93f-8e6ba043f497"
      },
      "source": [
        "from sklearn.preprocessing import StandardScaler, MinMaxScaler\r\n",
        "mm = MinMaxScaler()\r\n",
        "data = mm.fit_transform(merged_data)\r\n",
        "data.shape"
      ],
      "execution_count": null,
      "outputs": [
        {
          "output_type": "execute_result",
          "data": {
            "text/plain": [
              "(200000, 43)"
            ]
          },
          "metadata": {
            "tags": []
          },
          "execution_count": 60
        }
      ]
    },
    {
      "cell_type": "code",
      "metadata": {
        "colab": {
          "base_uri": "https://localhost:8080/"
        },
        "id": "cfNguZmlZvM-",
        "outputId": "c00e31bd-c8e8-49d6-d11a-7a25fad37746"
      },
      "source": [
        "X = merged_data\r\n",
        "X.shape"
      ],
      "execution_count": null,
      "outputs": [
        {
          "output_type": "execute_result",
          "data": {
            "text/plain": [
              "(200000, 43)"
            ]
          },
          "metadata": {
            "tags": []
          },
          "execution_count": 61
        }
      ]
    },
    {
      "cell_type": "code",
      "metadata": {
        "colab": {
          "base_uri": "https://localhost:8080/"
        },
        "id": "IBTW1oZPZvP2",
        "outputId": "ce272242-4e51-4c0c-8abd-6c74e65f4196"
      },
      "source": [
        "y.shape"
      ],
      "execution_count": null,
      "outputs": [
        {
          "output_type": "execute_result",
          "data": {
            "text/plain": [
              "(299573,)"
            ]
          },
          "metadata": {
            "tags": []
          },
          "execution_count": 62
        }
      ]
    },
    {
      "cell_type": "code",
      "metadata": {
        "id": "Rp24uEEpqipK"
      },
      "source": [
        "# 時間計測\r\n",
        "\r\n",
        "def tic():\r\n",
        "    # require to import time\r\n",
        "    global start_time_tictoc\r\n",
        "    start_time_tictoc = time.time()\r\n",
        "    \r\n",
        "    \r\n",
        "def toc(tag = 'elapsed time'):\r\n",
        "    if 'start_time_tictoc' in globals():\r\n",
        "        print('{}: {:.5f} sec'.format(tag, time.time() - start_time_tictoc), end = '' )\r\n",
        "    else:\r\n",
        "        print('tic has not been called')"
      ],
      "execution_count": null,
      "outputs": []
    },
    {
      "cell_type": "code",
      "metadata": {
        "id": "4HzT_z_Uv1i5"
      },
      "source": [
        "# 交差検証のためのtrainデータとtestデータの作成\r\n",
        "\r\n",
        "train_x, test_x, train_y, test_y = train_test_split(X, y, test_size=0.33, random_state=1)\r\n",
        "\r\n",
        "\r\n",
        "# lgbのデータセットに変更\r\n",
        "\r\n",
        "trains = lgb.Dataset(train_x,train_y)\r\n",
        "tests  = lgb.Dataset(test_x, test_y)"
      ],
      "execution_count": null,
      "outputs": []
    },
    {
      "cell_type": "code",
      "metadata": {
        "colab": {
          "base_uri": "https://localhost:8080/"
        },
        "id": "i6SMqv_Ev1l0",
        "outputId": "b5ff4bfd-e343-4dd4-f87c-d2f0568d100d"
      },
      "source": [
        "def objective(trial):\r\n",
        "    params = {\r\n",
        "        'random_state': 1,\r\n",
        "        'n_estimators': trial.suggest_categorical('n_estimators', [1000]),\r\n",
        "        'max_depth': trial.suggest_int('max_depth', 3, 8),\r\n",
        "        'learning_rate': trial.suggest_float('learning_rate', 0.001,3),\r\n",
        "        'reg_lambda': trial.suggest_float('reg_lambda', 0.0, 10),\r\n",
        "        'reg_alpha': trial.suggest_float('reg_alpha', 0.0, 10),\r\n",
        "        'gamma': trial.suggest_float('gamma', 0.0, 10),\r\n",
        "        'subsample': trial.suggest_categorical('subsample', [0.6,0.7, 0.8,0.9,1]),\r\n",
        "        'colsample_bytree': trial.suggest_categorical('colsample_bytree', [0.1,0.2,0.3,0.4]),\r\n",
        "    }\r\n",
        "    model = XGBRegressor(**params) \r\n",
        "    model.fit(train_x, train_y, eval_set=[(test_x,test_y)], early_stopping_rounds=100, verbose=0)\r\n",
        "    y_pred = model.predict(test_x)\r\n",
        "    rmse = mean_squared_error(test_y, y_pred, squared=False)\r\n",
        "    \r\n",
        "    return rmse\r\n",
        "\r\n",
        "print('DONE')"
      ],
      "execution_count": null,
      "outputs": [
        {
          "output_type": "stream",
          "text": [
            "DONE\n"
          ],
          "name": "stdout"
        }
      ]
    },
    {
      "cell_type": "code",
      "metadata": {
        "id": "DFCwVyDw9r3R"
      },
      "source": [
        ""
      ],
      "execution_count": null,
      "outputs": []
    },
    {
      "cell_type": "code",
      "metadata": {
        "colab": {
          "base_uri": "https://localhost:8080/"
        },
        "id": "0Ni2jq4I8Hoi",
        "outputId": "dceee0a6-7b8b-4026-983c-32b123767219"
      },
      "source": [
        "# 最適値を見つける\r\n",
        "\r\n",
        "tic()\r\n",
        "\r\n",
        "study = optuna.create_study(direction='minimize')\r\n",
        "study.optimize(objective, n_trials=30)\r\n",
        "\r\n",
        "toc()\r\n",
        "\r\n",
        "\r\n",
        "print('Best parameters:', study.best_trial.params)\r\n",
        "print('Best RMSE:', study.best_trial.value)"
      ],
      "execution_count": null,
      "outputs": [
        {
          "output_type": "stream",
          "text": [
            "\u001b[32m[I 2021-02-28 03:08:41,610]\u001b[0m A new study created in memory with name: no-name-db50937b-dd35-4802-9360-1211ddb221c8\u001b[0m\n"
          ],
          "name": "stderr"
        },
        {
          "output_type": "stream",
          "text": [
            "[03:08:41] WARNING: /workspace/src/objective/regression_obj.cu:152: reg:linear is now deprecated in favor of reg:squarederror.\n"
          ],
          "name": "stdout"
        },
        {
          "output_type": "stream",
          "text": [
            "\u001b[32m[I 2021-02-28 03:10:57,841]\u001b[0m Trial 0 finished with value: 0.8521379799659278 and parameters: {'n_estimators': 1000, 'max_depth': 3, 'learning_rate': 0.22809339559349534, 'reg_lambda': 9.151979725287898, 'reg_alpha': 9.358553825215157, 'gamma': 7.353895725973889, 'subsample': 0.8, 'colsample_bytree': 0.2}. Best is trial 0 with value: 0.8521379799659278.\u001b[0m\n"
          ],
          "name": "stderr"
        },
        {
          "output_type": "stream",
          "text": [
            "[03:10:58] WARNING: /workspace/src/objective/regression_obj.cu:152: reg:linear is now deprecated in favor of reg:squarederror.\n"
          ],
          "name": "stdout"
        },
        {
          "output_type": "stream",
          "text": [
            "\u001b[32m[I 2021-02-28 03:11:31,890]\u001b[0m Trial 1 finished with value: 0.8553384891219165 and parameters: {'n_estimators': 1000, 'max_depth': 5, 'learning_rate': 0.9070158948702112, 'reg_lambda': 4.441769201581694, 'reg_alpha': 5.371561452016774, 'gamma': 6.827227461631546, 'subsample': 1, 'colsample_bytree': 0.4}. Best is trial 0 with value: 0.8521379799659278.\u001b[0m\n"
          ],
          "name": "stderr"
        },
        {
          "output_type": "stream",
          "text": [
            "[03:11:32] WARNING: /workspace/src/objective/regression_obj.cu:152: reg:linear is now deprecated in favor of reg:squarederror.\n"
          ],
          "name": "stdout"
        },
        {
          "output_type": "stream",
          "text": [
            "\u001b[32m[I 2021-02-28 03:14:40,288]\u001b[0m Trial 2 finished with value: 1.4872691127904125 and parameters: {'n_estimators': 1000, 'max_depth': 7, 'learning_rate': 1.9986859789914977, 'reg_lambda': 9.149534617982244, 'reg_alpha': 3.8100003113678382, 'gamma': 9.356811880451833, 'subsample': 0.6, 'colsample_bytree': 0.3}. Best is trial 0 with value: 0.8521379799659278.\u001b[0m\n"
          ],
          "name": "stderr"
        },
        {
          "output_type": "stream",
          "text": [
            "[03:14:40] WARNING: /workspace/src/objective/regression_obj.cu:152: reg:linear is now deprecated in favor of reg:squarederror.\n"
          ],
          "name": "stdout"
        },
        {
          "output_type": "stream",
          "text": [
            "\u001b[32m[I 2021-02-28 03:14:49,334]\u001b[0m Trial 3 finished with value: 13.5543626205878 and parameters: {'n_estimators': 1000, 'max_depth': 7, 'learning_rate': 2.9430732289266124, 'reg_lambda': 1.9173342219572898, 'reg_alpha': 3.9964171107934874, 'gamma': 2.1096465709103365, 'subsample': 1, 'colsample_bytree': 0.1}. Best is trial 0 with value: 0.8521379799659278.\u001b[0m\n"
          ],
          "name": "stderr"
        },
        {
          "output_type": "stream",
          "text": [
            "[03:14:49] WARNING: /workspace/src/objective/regression_obj.cu:152: reg:linear is now deprecated in favor of reg:squarederror.\n"
          ],
          "name": "stdout"
        },
        {
          "output_type": "stream",
          "text": [
            "\u001b[32m[I 2021-02-28 03:17:53,975]\u001b[0m Trial 4 finished with value: 0.8521915403329677 and parameters: {'n_estimators': 1000, 'max_depth': 6, 'learning_rate': 0.062330924586442675, 'reg_lambda': 1.0261471498964159, 'reg_alpha': 0.37798201524002706, 'gamma': 1.6937107908185878, 'subsample': 0.6, 'colsample_bytree': 0.4}. Best is trial 0 with value: 0.8521379799659278.\u001b[0m\n"
          ],
          "name": "stderr"
        },
        {
          "output_type": "stream",
          "text": [
            "[03:17:54] WARNING: /workspace/src/objective/regression_obj.cu:152: reg:linear is now deprecated in favor of reg:squarederror.\n"
          ],
          "name": "stdout"
        },
        {
          "output_type": "stream",
          "text": [
            "\u001b[32m[I 2021-02-28 03:25:08,789]\u001b[0m Trial 5 finished with value: 0.8517816527452119 and parameters: {'n_estimators': 1000, 'max_depth': 8, 'learning_rate': 0.01363011168228136, 'reg_lambda': 4.646647431984033, 'reg_alpha': 5.2605899078939, 'gamma': 5.64993441680361, 'subsample': 0.6, 'colsample_bytree': 0.4}. Best is trial 5 with value: 0.8517816527452119.\u001b[0m\n"
          ],
          "name": "stderr"
        },
        {
          "output_type": "stream",
          "text": [
            "[03:25:08] WARNING: /workspace/src/objective/regression_obj.cu:152: reg:linear is now deprecated in favor of reg:squarederror.\n"
          ],
          "name": "stdout"
        },
        {
          "output_type": "stream",
          "text": [
            "\u001b[32m[I 2021-02-28 03:25:32,309]\u001b[0m Trial 6 finished with value: 0.8697874182217774 and parameters: {'n_estimators': 1000, 'max_depth': 6, 'learning_rate': 1.4939709185997037, 'reg_lambda': 7.056687820743831, 'reg_alpha': 1.1745139582874509, 'gamma': 1.3629334415267125, 'subsample': 0.9, 'colsample_bytree': 0.2}. Best is trial 5 with value: 0.8517816527452119.\u001b[0m\n"
          ],
          "name": "stderr"
        },
        {
          "output_type": "stream",
          "text": [
            "[03:25:32] WARNING: /workspace/src/objective/regression_obj.cu:152: reg:linear is now deprecated in favor of reg:squarederror.\n"
          ],
          "name": "stdout"
        },
        {
          "output_type": "stream",
          "text": [
            "\u001b[32m[I 2021-02-28 03:25:41,611]\u001b[0m Trial 7 finished with value: 7.4535795270010174 and parameters: {'n_estimators': 1000, 'max_depth': 5, 'learning_rate': 2.0639114589007765, 'reg_lambda': 8.849931974080173, 'reg_alpha': 1.9585126880254577, 'gamma': 8.660104652438006, 'subsample': 0.9, 'colsample_bytree': 0.1}. Best is trial 5 with value: 0.8517816527452119.\u001b[0m\n"
          ],
          "name": "stderr"
        },
        {
          "output_type": "stream",
          "text": [
            "[03:25:41] WARNING: /workspace/src/objective/regression_obj.cu:152: reg:linear is now deprecated in favor of reg:squarederror.\n"
          ],
          "name": "stdout"
        },
        {
          "output_type": "stream",
          "text": [
            "\u001b[32m[I 2021-02-28 03:26:06,904]\u001b[0m Trial 8 finished with value: 0.8710837930457861 and parameters: {'n_estimators': 1000, 'max_depth': 4, 'learning_rate': 1.8139611467917764, 'reg_lambda': 6.416286106597959, 'reg_alpha': 8.819955982688693, 'gamma': 5.858963681581507, 'subsample': 0.9, 'colsample_bytree': 0.3}. Best is trial 5 with value: 0.8517816527452119.\u001b[0m\n"
          ],
          "name": "stderr"
        },
        {
          "output_type": "stream",
          "text": [
            "[03:26:07] WARNING: /workspace/src/objective/regression_obj.cu:152: reg:linear is now deprecated in favor of reg:squarederror.\n"
          ],
          "name": "stdout"
        },
        {
          "output_type": "stream",
          "text": [
            "\u001b[32m[I 2021-02-28 03:26:17,373]\u001b[0m Trial 9 finished with value: 8.389221114624458 and parameters: {'n_estimators': 1000, 'max_depth': 4, 'learning_rate': 2.198998384599901, 'reg_lambda': 1.296468284755924, 'reg_alpha': 9.92501083703398, 'gamma': 8.349306131675018, 'subsample': 0.7, 'colsample_bytree': 0.2}. Best is trial 5 with value: 0.8517816527452119.\u001b[0m\n"
          ],
          "name": "stderr"
        },
        {
          "output_type": "stream",
          "text": [
            "[03:26:17] WARNING: /workspace/src/objective/regression_obj.cu:152: reg:linear is now deprecated in favor of reg:squarederror.\n"
          ],
          "name": "stdout"
        },
        {
          "output_type": "stream",
          "text": [
            "\u001b[32m[I 2021-02-28 03:27:07,809]\u001b[0m Trial 10 finished with value: 0.8581348414571229 and parameters: {'n_estimators': 1000, 'max_depth': 8, 'learning_rate': 0.6601252174544218, 'reg_lambda': 4.218752707945287, 'reg_alpha': 6.8582702988374376, 'gamma': 4.00647103391851, 'subsample': 0.6, 'colsample_bytree': 0.4}. Best is trial 5 with value: 0.8517816527452119.\u001b[0m\n"
          ],
          "name": "stderr"
        },
        {
          "output_type": "stream",
          "text": [
            "[03:27:08] WARNING: /workspace/src/objective/regression_obj.cu:152: reg:linear is now deprecated in favor of reg:squarederror.\n"
          ],
          "name": "stdout"
        },
        {
          "output_type": "stream",
          "text": [
            "\u001b[32m[I 2021-02-28 03:29:30,290]\u001b[0m Trial 11 finished with value: 0.8566732152500511 and parameters: {'n_estimators': 1000, 'max_depth': 3, 'learning_rate': 0.013357803525220285, 'reg_lambda': 3.333221436666265, 'reg_alpha': 7.653250033569479, 'gamma': 4.373412075745992, 'subsample': 0.8, 'colsample_bytree': 0.2}. Best is trial 5 with value: 0.8517816527452119.\u001b[0m\n"
          ],
          "name": "stderr"
        },
        {
          "output_type": "stream",
          "text": [
            "[03:29:30] WARNING: /workspace/src/objective/regression_obj.cu:152: reg:linear is now deprecated in favor of reg:squarederror.\n"
          ],
          "name": "stdout"
        },
        {
          "output_type": "stream",
          "text": [
            "\u001b[32m[I 2021-02-28 03:30:33,941]\u001b[0m Trial 12 finished with value: 0.8537711218890836 and parameters: {'n_estimators': 1000, 'max_depth': 8, 'learning_rate': 0.48353161613403706, 'reg_lambda': 6.566349826082194, 'reg_alpha': 9.741093767266312, 'gamma': 7.115969359778205, 'subsample': 0.8, 'colsample_bytree': 0.4}. Best is trial 5 with value: 0.8517816527452119.\u001b[0m\n"
          ],
          "name": "stderr"
        },
        {
          "output_type": "stream",
          "text": [
            "[03:30:34] WARNING: /workspace/src/objective/regression_obj.cu:152: reg:linear is now deprecated in favor of reg:squarederror.\n"
          ],
          "name": "stdout"
        },
        {
          "output_type": "stream",
          "text": [
            "\u001b[32m[I 2021-02-28 03:32:24,009]\u001b[0m Trial 13 finished with value: 0.8520843017435167 and parameters: {'n_estimators': 1000, 'max_depth': 3, 'learning_rate': 0.20694424023159247, 'reg_lambda': 9.949978512390173, 'reg_alpha': 5.998659315289529, 'gamma': 5.63286092902147, 'subsample': 0.8, 'colsample_bytree': 0.2}. Best is trial 5 with value: 0.8517816527452119.\u001b[0m\n"
          ],
          "name": "stderr"
        },
        {
          "output_type": "stream",
          "text": [
            "[03:32:24] WARNING: /workspace/src/objective/regression_obj.cu:152: reg:linear is now deprecated in favor of reg:squarederror.\n"
          ],
          "name": "stdout"
        },
        {
          "output_type": "stream",
          "text": [
            "\u001b[32m[I 2021-02-28 03:32:53,885]\u001b[0m Trial 14 finished with value: 0.8565909445781178 and parameters: {'n_estimators': 1000, 'max_depth': 4, 'learning_rate': 1.008321792236644, 'reg_lambda': 3.0003632858199203, 'reg_alpha': 5.8257155656314525, 'gamma': 5.284998636572439, 'subsample': 0.8, 'colsample_bytree': 0.4}. Best is trial 5 with value: 0.8517816527452119.\u001b[0m\n"
          ],
          "name": "stderr"
        },
        {
          "output_type": "stream",
          "text": [
            "[03:32:54] WARNING: /workspace/src/objective/regression_obj.cu:152: reg:linear is now deprecated in favor of reg:squarederror.\n"
          ],
          "name": "stdout"
        },
        {
          "output_type": "stream",
          "text": [
            "\u001b[32m[I 2021-02-28 03:33:21,649]\u001b[0m Trial 15 finished with value: 0.8676856797218061 and parameters: {'n_estimators': 1000, 'max_depth': 7, 'learning_rate': 1.2881900721369788, 'reg_lambda': 5.302154308035806, 'reg_alpha': 3.6893085384731474, 'gamma': 3.3407346500128825, 'subsample': 0.6, 'colsample_bytree': 0.2}. Best is trial 5 with value: 0.8517816527452119.\u001b[0m\n"
          ],
          "name": "stderr"
        },
        {
          "output_type": "stream",
          "text": [
            "[03:33:21] WARNING: /workspace/src/objective/regression_obj.cu:152: reg:linear is now deprecated in favor of reg:squarederror.\n"
          ],
          "name": "stdout"
        },
        {
          "output_type": "stream",
          "text": [
            "\u001b[32m[I 2021-02-28 03:34:10,574]\u001b[0m Trial 16 finished with value: 0.8539836440524495 and parameters: {'n_estimators': 1000, 'max_depth': 8, 'learning_rate': 0.4322299219782728, 'reg_lambda': 7.836638605505705, 'reg_alpha': 6.831537110673046, 'gamma': 5.7258407519954515, 'subsample': 0.7, 'colsample_bytree': 0.2}. Best is trial 5 with value: 0.8517816527452119.\u001b[0m\n"
          ],
          "name": "stderr"
        },
        {
          "output_type": "stream",
          "text": [
            "[03:34:10] WARNING: /workspace/src/objective/regression_obj.cu:152: reg:linear is now deprecated in favor of reg:squarederror.\n"
          ],
          "name": "stdout"
        },
        {
          "output_type": "stream",
          "text": [
            "\u001b[32m[I 2021-02-28 03:36:09,431]\u001b[0m Trial 17 finished with value: 0.8571437890072886 and parameters: {'n_estimators': 1000, 'max_depth': 3, 'learning_rate': 0.017076514680645423, 'reg_lambda': 5.829864401047839, 'reg_alpha': 2.9085916791308346, 'gamma': 0.12326075886491683, 'subsample': 0.8, 'colsample_bytree': 0.1}. Best is trial 5 with value: 0.8517816527452119.\u001b[0m\n"
          ],
          "name": "stderr"
        },
        {
          "output_type": "stream",
          "text": [
            "[03:36:09] WARNING: /workspace/src/objective/regression_obj.cu:152: reg:linear is now deprecated in favor of reg:squarederror.\n"
          ],
          "name": "stdout"
        },
        {
          "output_type": "stream",
          "text": [
            "\u001b[32m[I 2021-02-28 03:36:21,563]\u001b[0m Trial 18 finished with value: 12.835662792831226 and parameters: {'n_estimators': 1000, 'max_depth': 6, 'learning_rate': 2.840945192489668, 'reg_lambda': 8.05588777044587, 'reg_alpha': 4.972653919195065, 'gamma': 3.168530130353662, 'subsample': 0.6, 'colsample_bytree': 0.4}. Best is trial 5 with value: 0.8517816527452119.\u001b[0m\n"
          ],
          "name": "stderr"
        },
        {
          "output_type": "stream",
          "text": [
            "[03:36:21] WARNING: /workspace/src/objective/regression_obj.cu:152: reg:linear is now deprecated in favor of reg:squarederror.\n"
          ],
          "name": "stdout"
        },
        {
          "output_type": "stream",
          "text": [
            "\u001b[32m[I 2021-02-28 03:36:52,622]\u001b[0m Trial 19 finished with value: 0.8552154537799493 and parameters: {'n_estimators': 1000, 'max_depth': 5, 'learning_rate': 0.8360023430319695, 'reg_lambda': 3.205025777719108, 'reg_alpha': 7.833864058654002, 'gamma': 6.429350378716996, 'subsample': 0.6, 'colsample_bytree': 0.3}. Best is trial 5 with value: 0.8517816527452119.\u001b[0m\n"
          ],
          "name": "stderr"
        },
        {
          "output_type": "stream",
          "text": [
            "[03:36:52] WARNING: /workspace/src/objective/regression_obj.cu:152: reg:linear is now deprecated in favor of reg:squarederror.\n"
          ],
          "name": "stdout"
        },
        {
          "output_type": "stream",
          "text": [
            "\u001b[32m[I 2021-02-28 03:37:52,396]\u001b[0m Trial 20 finished with value: 0.8528390559807146 and parameters: {'n_estimators': 1000, 'max_depth': 4, 'learning_rate': 0.3069865189401905, 'reg_lambda': 0.2675160019048093, 'reg_alpha': 6.1001285094350886, 'gamma': 4.564644722681414, 'subsample': 0.8, 'colsample_bytree': 0.4}. Best is trial 5 with value: 0.8517816527452119.\u001b[0m\n"
          ],
          "name": "stderr"
        },
        {
          "output_type": "stream",
          "text": [
            "[03:37:52] WARNING: /workspace/src/objective/regression_obj.cu:152: reg:linear is now deprecated in favor of reg:squarederror.\n"
          ],
          "name": "stdout"
        },
        {
          "output_type": "stream",
          "text": [
            "\u001b[32m[I 2021-02-28 03:40:08,318]\u001b[0m Trial 21 finished with value: 0.8520097444972636 and parameters: {'n_estimators': 1000, 'max_depth': 3, 'learning_rate': 0.17739842018709578, 'reg_lambda': 9.431154088122888, 'reg_alpha': 8.702779684044806, 'gamma': 7.792635793932211, 'subsample': 0.8, 'colsample_bytree': 0.2}. Best is trial 5 with value: 0.8517816527452119.\u001b[0m\n"
          ],
          "name": "stderr"
        },
        {
          "output_type": "stream",
          "text": [
            "[03:40:08] WARNING: /workspace/src/objective/regression_obj.cu:152: reg:linear is now deprecated in favor of reg:squarederror.\n"
          ],
          "name": "stdout"
        },
        {
          "output_type": "stream",
          "text": [
            "\u001b[32m[I 2021-02-28 03:42:28,771]\u001b[0m Trial 22 finished with value: 0.8537660255878378 and parameters: {'n_estimators': 1000, 'max_depth': 3, 'learning_rate': 0.03158619172630242, 'reg_lambda': 9.636836073694814, 'reg_alpha': 4.587312152345991, 'gamma': 7.8759366062553235, 'subsample': 0.8, 'colsample_bytree': 0.2}. Best is trial 5 with value: 0.8517816527452119.\u001b[0m\n"
          ],
          "name": "stderr"
        },
        {
          "output_type": "stream",
          "text": [
            "[03:42:28] WARNING: /workspace/src/objective/regression_obj.cu:152: reg:linear is now deprecated in favor of reg:squarederror.\n"
          ],
          "name": "stdout"
        },
        {
          "output_type": "stream",
          "text": [
            "\u001b[32m[I 2021-02-28 03:43:19,870]\u001b[0m Trial 23 finished with value: 0.852767583074039 and parameters: {'n_estimators': 1000, 'max_depth': 3, 'learning_rate': 0.6170371612922887, 'reg_lambda': 9.970288377760538, 'reg_alpha': 8.29334599073654, 'gamma': 6.331112873221506, 'subsample': 0.8, 'colsample_bytree': 0.2}. Best is trial 5 with value: 0.8517816527452119.\u001b[0m\n"
          ],
          "name": "stderr"
        },
        {
          "output_type": "stream",
          "text": [
            "[03:43:20] WARNING: /workspace/src/objective/regression_obj.cu:152: reg:linear is now deprecated in favor of reg:squarederror.\n"
          ],
          "name": "stdout"
        },
        {
          "output_type": "stream",
          "text": [
            "\u001b[32m[I 2021-02-28 03:45:30,360]\u001b[0m Trial 24 finished with value: 0.8523418698521416 and parameters: {'n_estimators': 1000, 'max_depth': 4, 'learning_rate': 0.2572045414033973, 'reg_lambda': 8.03007472223124, 'reg_alpha': 6.66694344177535, 'gamma': 9.720754406930864, 'subsample': 0.8, 'colsample_bytree': 0.2}. Best is trial 5 with value: 0.8517816527452119.\u001b[0m\n"
          ],
          "name": "stderr"
        },
        {
          "output_type": "stream",
          "text": [
            "[03:45:30] WARNING: /workspace/src/objective/regression_obj.cu:152: reg:linear is now deprecated in favor of reg:squarederror.\n"
          ],
          "name": "stdout"
        },
        {
          "output_type": "stream",
          "text": [
            "\u001b[32m[I 2021-02-28 03:45:51,514]\u001b[0m Trial 25 finished with value: 0.8558136150538663 and parameters: {'n_estimators': 1000, 'max_depth': 3, 'learning_rate': 1.1504070835515898, 'reg_lambda': 5.340227811742826, 'reg_alpha': 2.521811345841773, 'gamma': 4.902919842853125, 'subsample': 1, 'colsample_bytree': 0.2}. Best is trial 5 with value: 0.8517816527452119.\u001b[0m\n"
          ],
          "name": "stderr"
        },
        {
          "output_type": "stream",
          "text": [
            "[03:45:51] WARNING: /workspace/src/objective/regression_obj.cu:152: reg:linear is now deprecated in favor of reg:squarederror.\n"
          ],
          "name": "stdout"
        },
        {
          "output_type": "stream",
          "text": [
            "\u001b[32m[I 2021-02-28 03:46:34,016]\u001b[0m Trial 26 finished with value: 0.8539406352236462 and parameters: {'n_estimators': 1000, 'max_depth': 4, 'learning_rate': 0.734291587191654, 'reg_lambda': 4.568909856628545, 'reg_alpha': 7.48558888584701, 'gamma': 7.813311123639787, 'subsample': 0.7, 'colsample_bytree': 0.2}. Best is trial 5 with value: 0.8517816527452119.\u001b[0m\n"
          ],
          "name": "stderr"
        },
        {
          "output_type": "stream",
          "text": [
            "[03:46:34] WARNING: /workspace/src/objective/regression_obj.cu:152: reg:linear is now deprecated in favor of reg:squarederror.\n"
          ],
          "name": "stdout"
        },
        {
          "output_type": "stream",
          "text": [
            "\u001b[32m[I 2021-02-28 03:49:31,516]\u001b[0m Trial 27 finished with value: 0.8517833916620444 and parameters: {'n_estimators': 1000, 'max_depth': 5, 'learning_rate': 0.19930772892229492, 'reg_lambda': 9.94397847802421, 'reg_alpha': 6.075425139580101, 'gamma': 8.925099546831827, 'subsample': 0.8, 'colsample_bytree': 0.2}. Best is trial 5 with value: 0.8517816527452119.\u001b[0m\n"
          ],
          "name": "stderr"
        },
        {
          "output_type": "stream",
          "text": [
            "[03:49:31] WARNING: /workspace/src/objective/regression_obj.cu:152: reg:linear is now deprecated in favor of reg:squarederror.\n"
          ],
          "name": "stdout"
        },
        {
          "output_type": "stream",
          "text": [
            "\u001b[32m[I 2021-02-28 03:49:43,550]\u001b[0m Trial 28 finished with value: 10.78271899756911 and parameters: {'n_estimators': 1000, 'max_depth': 5, 'learning_rate': 2.5450429751618904, 'reg_lambda': 7.337631097143532, 'reg_alpha': 8.404175515814277, 'gamma': 9.002208439158192, 'subsample': 0.6, 'colsample_bytree': 0.4}. Best is trial 5 with value: 0.8517816527452119.\u001b[0m\n"
          ],
          "name": "stderr"
        },
        {
          "output_type": "stream",
          "text": [
            "[03:49:43] WARNING: /workspace/src/objective/regression_obj.cu:152: reg:linear is now deprecated in favor of reg:squarederror.\n"
          ],
          "name": "stdout"
        },
        {
          "output_type": "stream",
          "text": [
            "\u001b[32m[I 2021-02-28 03:50:32,384]\u001b[0m Trial 29 finished with value: 0.8531452883200841 and parameters: {'n_estimators': 1000, 'max_depth': 7, 'learning_rate': 0.4615187591746796, 'reg_lambda': 3.84486275090437, 'reg_alpha': 4.752109585430225, 'gamma': 7.806023602942261, 'subsample': 0.8, 'colsample_bytree': 0.1}. Best is trial 5 with value: 0.8517816527452119.\u001b[0m\n"
          ],
          "name": "stderr"
        },
        {
          "output_type": "stream",
          "text": [
            "elapsed time: 2510.77716 secBest parameters: {'n_estimators': 1000, 'max_depth': 8, 'learning_rate': 0.01363011168228136, 'reg_lambda': 4.646647431984033, 'reg_alpha': 5.2605899078939, 'gamma': 5.64993441680361, 'subsample': 0.6, 'colsample_bytree': 0.4}\n",
            "Best RMSE: 0.8517816527452119\n"
          ],
          "name": "stdout"
        }
      ]
    },
    {
      "cell_type": "code",
      "metadata": {
        "colab": {
          "base_uri": "https://localhost:8080/"
        },
        "id": "Vd_SJj_Y8Hjm",
        "outputId": "9a29dc4b-2d99-44ce-cb09-4ce61107d1b5"
      },
      "source": [
        "study.best_params"
      ],
      "execution_count": null,
      "outputs": [
        {
          "output_type": "execute_result",
          "data": {
            "text/plain": [
              "{'colsample_bytree': 0.4,\n",
              " 'gamma': 5.64993441680361,\n",
              " 'learning_rate': 0.01363011168228136,\n",
              " 'max_depth': 8,\n",
              " 'n_estimators': 1000,\n",
              " 'reg_alpha': 5.2605899078939,\n",
              " 'reg_lambda': 4.646647431984033,\n",
              " 'subsample': 0.6}"
            ]
          },
          "metadata": {
            "tags": []
          },
          "execution_count": 66
        }
      ]
    },
    {
      "cell_type": "code",
      "metadata": {
        "id": "2u39S_Jj8PYA"
      },
      "source": [
        ""
      ],
      "execution_count": null,
      "outputs": []
    },
    {
      "cell_type": "markdown",
      "metadata": {
        "id": "u2xbcjOQ8lVZ"
      },
      "source": [
        "### 予測\r\n"
      ]
    },
    {
      "cell_type": "code",
      "metadata": {
        "id": "8t60X0ZA8Pa9"
      },
      "source": [
        "params = study.best_params\r\n",
        "params['random_state'] = 0\r\n",
        "params['n_estimators'] = 10000## "
      ],
      "execution_count": null,
      "outputs": []
    },
    {
      "cell_type": "code",
      "metadata": {
        "id": "ZDbujPQ-8PeV",
        "colab": {
          "base_uri": "https://localhost:8080/"
        },
        "outputId": "1976fa1a-5918-44df-f59e-878be0e54015"
      },
      "source": [
        "# 予測\r\n",
        "X_test = X\r\n",
        "\r\n",
        "model = XGBRegressor(**params)\r\n",
        "\r\n",
        "model.fit(train_x, train_y,\r\n",
        "           eval_set =[(train_x, train_y), (test_x, test_y)],\r\n",
        "           eval_metric=\"rmse\", verbose=200, early_stopping_rounds=100\r\n",
        "           )\r\n",
        "\r\n",
        "    \r\n",
        "pred = model.predict(X_test)"
      ],
      "execution_count": null,
      "outputs": [
        {
          "output_type": "stream",
          "text": [
            "[04:15:11] WARNING: /workspace/src/objective/regression_obj.cu:152: reg:linear is now deprecated in favor of reg:squarederror.\n",
            "[0]\tvalidation_0-rmse:6.92176\tvalidation_1-rmse:6.92119\n",
            "Multiple eval metrics have been passed: 'validation_1-rmse' will be used for early stopping.\n",
            "\n",
            "Will train until validation_1-rmse hasn't improved in 100 rounds.\n",
            "[200]\tvalidation_0-rmse:0.968715\tvalidation_1-rmse:0.969009\n",
            "[400]\tvalidation_0-rmse:0.852611\tvalidation_1-rmse:0.856286\n",
            "[600]\tvalidation_0-rmse:0.847552\tvalidation_1-rmse:0.853382\n",
            "[800]\tvalidation_0-rmse:0.844932\tvalidation_1-rmse:0.852324\n",
            "[1000]\tvalidation_0-rmse:0.843097\tvalidation_1-rmse:0.851745\n",
            "[1200]\tvalidation_0-rmse:0.841709\tvalidation_1-rmse:0.851464\n",
            "[1400]\tvalidation_0-rmse:0.840523\tvalidation_1-rmse:0.851242\n",
            "[1600]\tvalidation_0-rmse:0.839495\tvalidation_1-rmse:0.851108\n",
            "[1800]\tvalidation_0-rmse:0.838516\tvalidation_1-rmse:0.851056\n",
            "[2000]\tvalidation_0-rmse:0.837682\tvalidation_1-rmse:0.851025\n",
            "[2200]\tvalidation_0-rmse:0.836865\tvalidation_1-rmse:0.850993\n",
            "Stopping. Best iteration:\n",
            "[2231]\tvalidation_0-rmse:0.836771\tvalidation_1-rmse:0.850979\n",
            "\n"
          ],
          "name": "stdout"
        }
      ]
    },
    {
      "cell_type": "code",
      "metadata": {
        "id": "DXuRhJRiv1oY",
        "colab": {
          "base_uri": "https://localhost:8080/"
        },
        "outputId": "1bcb3bc4-f6a0-431f-e53f-130e2230a241"
      },
      "source": [
        "pred.shape"
      ],
      "execution_count": null,
      "outputs": [
        {
          "output_type": "execute_result",
          "data": {
            "text/plain": [
              "(200000,)"
            ]
          },
          "metadata": {
            "tags": []
          },
          "execution_count": 92
        }
      ]
    },
    {
      "cell_type": "code",
      "metadata": {
        "colab": {
          "base_uri": "https://localhost:8080/",
          "height": 197
        },
        "id": "R3vdXRZ5M36z",
        "outputId": "9bb8fb0f-65ce-4efe-a735-9562d78d94c7"
      },
      "source": [
        "sample_submission = pd.read_csv('drive/My Drive/sample_submission.csv')\r\n",
        "sample_submission.head()"
      ],
      "execution_count": null,
      "outputs": [
        {
          "output_type": "execute_result",
          "data": {
            "text/html": [
              "<div>\n",
              "<style scoped>\n",
              "    .dataframe tbody tr th:only-of-type {\n",
              "        vertical-align: middle;\n",
              "    }\n",
              "\n",
              "    .dataframe tbody tr th {\n",
              "        vertical-align: top;\n",
              "    }\n",
              "\n",
              "    .dataframe thead th {\n",
              "        text-align: right;\n",
              "    }\n",
              "</style>\n",
              "<table border=\"1\" class=\"dataframe\">\n",
              "  <thead>\n",
              "    <tr style=\"text-align: right;\">\n",
              "      <th></th>\n",
              "      <th>id</th>\n",
              "      <th>target</th>\n",
              "    </tr>\n",
              "  </thead>\n",
              "  <tbody>\n",
              "    <tr>\n",
              "      <th>0</th>\n",
              "      <td>0</td>\n",
              "      <td>0.5</td>\n",
              "    </tr>\n",
              "    <tr>\n",
              "      <th>1</th>\n",
              "      <td>5</td>\n",
              "      <td>0.5</td>\n",
              "    </tr>\n",
              "    <tr>\n",
              "      <th>2</th>\n",
              "      <td>15</td>\n",
              "      <td>0.5</td>\n",
              "    </tr>\n",
              "    <tr>\n",
              "      <th>3</th>\n",
              "      <td>16</td>\n",
              "      <td>0.5</td>\n",
              "    </tr>\n",
              "    <tr>\n",
              "      <th>4</th>\n",
              "      <td>17</td>\n",
              "      <td>0.5</td>\n",
              "    </tr>\n",
              "  </tbody>\n",
              "</table>\n",
              "</div>"
            ],
            "text/plain": [
              "   id  target\n",
              "0   0     0.5\n",
              "1   5     0.5\n",
              "2  15     0.5\n",
              "3  16     0.5\n",
              "4  17     0.5"
            ]
          },
          "metadata": {
            "tags": []
          },
          "execution_count": 93
        }
      ]
    },
    {
      "cell_type": "code",
      "metadata": {
        "colab": {
          "base_uri": "https://localhost:8080/",
          "height": 406
        },
        "id": "-sk8OBK8v1q_",
        "outputId": "e5396604-d66e-4522-828b-318dad1d1fe7"
      },
      "source": [
        "sample_submission['target'] = pred\r\n",
        "sample_submission.to_csv('sample_submissioin.csv', index=False)\r\n",
        "sample_submission"
      ],
      "execution_count": null,
      "outputs": [
        {
          "output_type": "execute_result",
          "data": {
            "text/html": [
              "<div>\n",
              "<style scoped>\n",
              "    .dataframe tbody tr th:only-of-type {\n",
              "        vertical-align: middle;\n",
              "    }\n",
              "\n",
              "    .dataframe tbody tr th {\n",
              "        vertical-align: top;\n",
              "    }\n",
              "\n",
              "    .dataframe thead th {\n",
              "        text-align: right;\n",
              "    }\n",
              "</style>\n",
              "<table border=\"1\" class=\"dataframe\">\n",
              "  <thead>\n",
              "    <tr style=\"text-align: right;\">\n",
              "      <th></th>\n",
              "      <th>id</th>\n",
              "      <th>target</th>\n",
              "    </tr>\n",
              "  </thead>\n",
              "  <tbody>\n",
              "    <tr>\n",
              "      <th>0</th>\n",
              "      <td>0</td>\n",
              "      <td>7.483742</td>\n",
              "    </tr>\n",
              "    <tr>\n",
              "      <th>1</th>\n",
              "      <td>5</td>\n",
              "      <td>7.675493</td>\n",
              "    </tr>\n",
              "    <tr>\n",
              "      <th>2</th>\n",
              "      <td>15</td>\n",
              "      <td>7.396656</td>\n",
              "    </tr>\n",
              "    <tr>\n",
              "      <th>3</th>\n",
              "      <td>16</td>\n",
              "      <td>7.307775</td>\n",
              "    </tr>\n",
              "    <tr>\n",
              "      <th>4</th>\n",
              "      <td>17</td>\n",
              "      <td>7.128921</td>\n",
              "    </tr>\n",
              "    <tr>\n",
              "      <th>...</th>\n",
              "      <td>...</td>\n",
              "      <td>...</td>\n",
              "    </tr>\n",
              "    <tr>\n",
              "      <th>199995</th>\n",
              "      <td>499987</td>\n",
              "      <td>7.565831</td>\n",
              "    </tr>\n",
              "    <tr>\n",
              "      <th>199996</th>\n",
              "      <td>499990</td>\n",
              "      <td>7.410156</td>\n",
              "    </tr>\n",
              "    <tr>\n",
              "      <th>199997</th>\n",
              "      <td>499991</td>\n",
              "      <td>7.522186</td>\n",
              "    </tr>\n",
              "    <tr>\n",
              "      <th>199998</th>\n",
              "      <td>499994</td>\n",
              "      <td>7.371075</td>\n",
              "    </tr>\n",
              "    <tr>\n",
              "      <th>199999</th>\n",
              "      <td>499995</td>\n",
              "      <td>6.874923</td>\n",
              "    </tr>\n",
              "  </tbody>\n",
              "</table>\n",
              "<p>200000 rows × 2 columns</p>\n",
              "</div>"
            ],
            "text/plain": [
              "            id    target\n",
              "0            0  7.483742\n",
              "1            5  7.675493\n",
              "2           15  7.396656\n",
              "3           16  7.307775\n",
              "4           17  7.128921\n",
              "...        ...       ...\n",
              "199995  499987  7.565831\n",
              "199996  499990  7.410156\n",
              "199997  499991  7.522186\n",
              "199998  499994  7.371075\n",
              "199999  499995  6.874923\n",
              "\n",
              "[200000 rows x 2 columns]"
            ]
          },
          "metadata": {
            "tags": []
          },
          "execution_count": 94
        }
      ]
    },
    {
      "cell_type": "code",
      "metadata": {
        "colab": {
          "base_uri": "https://localhost:8080/",
          "height": 16
        },
        "id": "4ed5PzOiv1t2",
        "outputId": "e41a6ff4-bdd5-4f92-bbd9-0422eebcd5c1"
      },
      "source": [
        "from google.colab import files\r\n",
        "sample_submission.to_csv(\"output_3.00.csv\")\r\n",
        "files.download('output_3.00.csv')"
      ],
      "execution_count": null,
      "outputs": [
        {
          "output_type": "display_data",
          "data": {
            "application/javascript": [
              "\n",
              "    async function download(id, filename, size) {\n",
              "      if (!google.colab.kernel.accessAllowed) {\n",
              "        return;\n",
              "      }\n",
              "      const div = document.createElement('div');\n",
              "      const label = document.createElement('label');\n",
              "      label.textContent = `Downloading \"${filename}\": `;\n",
              "      div.appendChild(label);\n",
              "      const progress = document.createElement('progress');\n",
              "      progress.max = size;\n",
              "      div.appendChild(progress);\n",
              "      document.body.appendChild(div);\n",
              "\n",
              "      const buffers = [];\n",
              "      let downloaded = 0;\n",
              "\n",
              "      const channel = await google.colab.kernel.comms.open(id);\n",
              "      // Send a message to notify the kernel that we're ready.\n",
              "      channel.send({})\n",
              "\n",
              "      for await (const message of channel.messages) {\n",
              "        // Send a message to notify the kernel that we're ready.\n",
              "        channel.send({})\n",
              "        if (message.buffers) {\n",
              "          for (const buffer of message.buffers) {\n",
              "            buffers.push(buffer);\n",
              "            downloaded += buffer.byteLength;\n",
              "            progress.value = downloaded;\n",
              "          }\n",
              "        }\n",
              "      }\n",
              "      const blob = new Blob(buffers, {type: 'application/binary'});\n",
              "      const a = document.createElement('a');\n",
              "      a.href = window.URL.createObjectURL(blob);\n",
              "      a.download = filename;\n",
              "      div.appendChild(a);\n",
              "      a.click();\n",
              "      div.remove();\n",
              "    }\n",
              "  "
            ],
            "text/plain": [
              "<IPython.core.display.Javascript object>"
            ]
          },
          "metadata": {
            "tags": []
          }
        },
        {
          "output_type": "display_data",
          "data": {
            "application/javascript": [
              "download(\"download_52d044e0-d853-41f3-b5ce-d68b1c5a222d\", \"output_3.00.csv\", 4537834)"
            ],
            "text/plain": [
              "<IPython.core.display.Javascript object>"
            ]
          },
          "metadata": {
            "tags": []
          }
        }
      ]
    },
    {
      "cell_type": "code",
      "metadata": {
        "id": "RsxJ1pWov1v3"
      },
      "source": [
        ""
      ],
      "execution_count": null,
      "outputs": []
    },
    {
      "cell_type": "code",
      "metadata": {
        "id": "4Kiymeu9v1yx"
      },
      "source": [
        ""
      ],
      "execution_count": null,
      "outputs": []
    },
    {
      "cell_type": "code",
      "metadata": {
        "id": "p_i4OmMCv11D"
      },
      "source": [
        ""
      ],
      "execution_count": null,
      "outputs": []
    }
  ]
}